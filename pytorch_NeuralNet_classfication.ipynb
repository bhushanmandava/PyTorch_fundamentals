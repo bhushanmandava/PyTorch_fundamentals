{
  "nbformat": 4,
  "nbformat_minor": 0,
  "metadata": {
    "colab": {
      "provenance": [],
      "gpuType": "T4",
      "authorship_tag": "ABX9TyNVbfAQ8zY/7Z7pWD0xcds7",
      "include_colab_link": true
    },
    "kernelspec": {
      "name": "python3",
      "display_name": "Python 3"
    },
    "language_info": {
      "name": "python"
    },
    "accelerator": "GPU"
  },
  "cells": [
    {
      "cell_type": "markdown",
      "metadata": {
        "id": "view-in-github",
        "colab_type": "text"
      },
      "source": [
        "<a href=\"https://colab.research.google.com/github/bhushanmandava/PyTorch_fundamentals/blob/main/pytorch_NeuralNet_classfication.ipynb\" target=\"_parent\"><img src=\"https://colab.research.google.com/assets/colab-badge.svg\" alt=\"Open In Colab\"/></a>"
      ]
    },
    {
      "cell_type": "markdown",
      "source": [
        "##intro\n",
        "majority of the classification problems can be fit into two types\n",
        "\n",
        "1.binary classification: spam or not spam | yes or no | pass or fail\n",
        "\n",
        "2.multiclass Classification: dog , cat or person"
      ],
      "metadata": {
        "id": "KDumr0Q-XVOc"
      }
    },
    {
      "cell_type": "markdown",
      "source": [
        "![neural_network_architecture8XR2PC.webp](data:image/webp;base64,UklGRuQzAABXRUJQVlA4INgzAADQ3wCdASqMAmYBPm02l0ikIqIhI3Ep8IANiWdu/GwZF8AegGvlPfv/+R3yWwu7f3T9qf75+5HVAbc95uiwN56le+X8b/D/kZ2o/1L/kPz/+gn+G/1H9e/xe+Hf/Aey39xPUT+y37O+8//nP2k95P9r9Qf+l/7r/69ht6FPlr/uP8O/7cfvJ7SX//1mXyB/dP7V3Pf4H8pP7t5Hvof73+Tv9V9xLHP2N6l/yH7Yfnv77+5/xo/e/9p4H/JH/N9QL8m/nP+K/ND+98KZbr/ueoF7VfXv+R91/wVfEf6X++eqP2V/5325/YB/Qf65/v/7v+RX0X/zvBF8y/Y34Af59/b/+r/j/yD+mz+s/8n+f/0fpr/S/8p/6P8v/pPkJ/m39r/6n+C9tP//+5T9z//l7q/7Gf/weoiIiIiIiIiIiIiIiIiIiIiIiIiIiIiIiIgu89c0LDWEQhHwc1lktSgWYKXgLprgPYQBuk8YNkuEZlCuT0PNidVVkdlcDgp/pfYjuxibEzAxZqdEeh2qqBLMjAXVsFoeUCl5QwQbDdXJh3EsIA4fyLMGBOrhvjufSnS/4KuhlEUlIsPE/gUITR7ipTOXVkGjMzMzMzMzMzLkNc/7PjheF4dO0vW01iWxpihsjC8HD3YYZ28mFMoqDPH+REPVxsC6hgPCF164dSf4O1xnkpBaKL83d3d3d3d3d3d3d30ShCEIQhCEHjoZOgNGZmZmZmWXgU1fNi4fK+YnCNVVVVVVVVVVVVVVVVVS6FtmItj1IZmYRSWAwe7VLAINdPy6j+MgtxERERERERERERERERD1o8CnD4WVhmN+fwk02UVoFDZcCGzLpJWFzFyak4o2fgLC59xGYsuzeLWmqLb90KRf0n407u7u7uyZ19CnnXSvyWLu7us8I77cPW62RBtxyqqsyOLRSwEDhLVRVnGtV/ToHpjmCKbjpufsch4XnHxG7u7s+aXhJZIEBkWzBXjimpcZpBEZL9bmlQqmgJKHjI2EHdzYp2lb8dQdAcgjdLgubf0P1SJpmxQ0E39grjlDAuJcq0VsIM2R95hCpgRzJ4aHWnDDEFVo2HcnURDnoOmWr5pxHyfAfZD00Rwd2rHB1i2AJ9NTnlOwQEZ20MicckYFD82dCJx2FqkAHDsLVbx40kbtsm7Kr0YPX3Jwi4Xbhmq6XIg9jUNknfqkloGkK3dkYBZS3oE+h0+wkqyVHl21GS78VVJlUCfrMEsYPog0IYyNmWbHmjw2YEBsDr8VNj3kO7s2sri1VVKkOKmOIVTBlCvs94z80dGyEos5M85G7DiGDdhCraGuO+6nuQTVb8Mm9d3lgW781CT/0XqwRpK5nMMffWYK3lb70TjgLVMx1oL0nOCP6hPEPghwvSqfqi7JMzMwp0p8KYIYgtraxKBPd2TuAEGpvILOlnlN+OlnhSm6vX5lMvzfgG8E/5HvJH/c3dxtpnQwXA4Z8HAUf5jMVH59RbcZketRzh/Iad1ru7erObzI9wWE/6fTxOZKLZZBFgh5j+hXy0AanADMzfxwTuL4SdDYvQzaUerqge+UGKCrmfKBDkVJMXZpgjVR69VPdm1PBYJxB37K1fnl9yQ+slOLniSB/bNdaeLAtdZOCXKvkD9lMFAIp2VBVV8fdJ6LqNfWFKWE4zJXS/97W9XaRypR3htTl/FKLMFmXuizMuML9jxBf4HmHqZn6fTHCocmZRAm/EdVDTRFbkc3+pVnpT7gEGk9pmBLQTv5BpuYgkr4FLauZY5hjkimZ3sZBEboVqdvcRcv+pU+uJcWDELqGUVDOk9M5DNFe7u35nnOdkVqe8TdB41V5xrRLER749LFFS/A9ykR4khDLFYem2O0DrO8xTptQ60Ugm5ACZhp2ZLmQzlmmAJaHYEexKXgjMg86sUFk7hEREREREDArmXsDGB5UF847rjn80Czs7sjfZegHNlJYZrUlWbKBaxR+UiizZKW/JNIm1MzloX/7XG/2nTE39rO+WUrhdtZZCxmIKfux75RqvhGWkc1sDNf1ZU2uBVVVVOpgoSsqhl4hmZmag8lzu9mEp2sVRN7brXh4M2bj2YtHeKnGOof+f/ujkNvtX4RE87UqZe5qDr48n7IsVVVQoyNIMW0Mzkvu4UjTdmzFpB8CmFMREocn3fY1Z3dmYmZNcLB6vf7oP7L0DR8m9mZmZmZmaSTMzMx4yqBKPtUhJYd9/1IImUHWopiJJnVUjt3KyhHgR7EXB8jtRFGwwwNxE6WKqqqqqqqqqqqqrZRIH8uriIUgNXQSdT6lMPz24REREREREREREREREREREREQUgqoJrH3ZD4iIiIiIiIiIiIiIiIiIiIiIiIiM1ERERERERERERERERERERERERERERERERERERERERERERERERDyAD+9u9Ax3xJ9CwEIAAAAE7x0UfVm+QGE2Vo2j0LMRPtX6O3zhcdC3FNpc/iUpjIgg2/LyMLMcH++8XjdggEJh/9K081Bar4Lx3zAWzWqnooH7lQ081u9/QvayotTLQwEA8p2frRXPynhi4k+D46ZvijF3F+8x/pvdR2g6s6tMhD3A3BYHz0Dx560pwJafv5NWMnCySTnsHrdVTqBtDe4306mNa0a4KbsHssQiCg49eX/lCJe6LiA88j+pDNJsEqrb+dhDOKma81MmhLvrNVmH/eDZTO1xxp6L8+WvT2fbJ+fFkc4xBNEEO8AcdjUFQpYU/TFME+Xlw2y6buudEBpJmuwxvIf8efE/TZb7c5OG+WRIw3f1QtGwreLUcQI1HFW6RliS5r+54XRLNoL7LfodRVXpwW8KqptHwLgJV356NQqi6af4ESOkWpbb+8euCa5yfwI0JtYNeBPrz237KXyz+wmnBZKaciVVmc8GL9z1jtsdvZfpoPaDIaZver04fTgPtHPkBfGZtl8J/ZHR8RmOxdstdpOv5N1F8gbiEurb/uScJm5LnedIYzZ5wWY/jfLeTLdz9/TCZLQy5genqR/GRV1+zKYAbP45BM7CyUrmNjR1TXDyfcI2RGaZGRbXYrg5rjtJDGbe83FXm0pYvSOf8iWzDx7VCD9KkNO3NW06irai4a0VigJXAaNExYPDXmC8fvFZKbd7+AhMvakNQYk0ykGex2I0AFNZJH9ej6tpdk6hnKDytDOOEHfFXWJwedraLkx0OI7O8sFztC5lghp5RHnteT7Nq+vL+v4pc6wIjMVfEv74Zr3EaTpzFUP4u58D4D+FD4+iYNjdwTwZu9ThtNb65riNl61YwfKR+FDdGTFhRB9B/QqD4sLwzC/whfwDJMqoXo3g/hrB6Wc+7lwnqjuSfnNdxjRKs8H5rR80jJXbq2TTsqKoc+CWLrC7w6BLcBScfSN8D9oaNwg2TzmC3SYZN420C5v/dPzvLQfsZlg4eNtdHwmsWHwKA6v1jHarqafxTWMutVUcVdYx8Wi4i4RdFYTVTpEvJZsfGL1xlYSQicdFqPRV26MhbMST3NVN7Bk3Jq1JfSfBCyzZzpMfQkkWD4CIKJyB9RE9fpwW9ns6BK5dhbt0ibKwgisDwEiNfSBxYaYVcyJssdhslqj/grOy/sJlkkHDJeJisbf8mgpX8BjeYQXlZG4p1r7rw/yEnMWXkMAn8saJxRX0pdjomxSnTzI4fK/Zj36Y11YpThcJZFFHpZ3EwpSwoGHMRn3RDSXfULr1q7NFs4JUnbKhpY4CA1N/9+BnAb8g4qZ2CFLcKwKLgol+oM34EZMkHsVAqbD+31FbMAmaqUV5W/pd5fgV+fwbsWW9NQ/MPmaPDHuLNWqWaWcI59lXl6h22H4LzbnTUxuXKGrx+6RFfzK3bmoh6C48gE9HExJUtRhvKYQE5zv3bSdAAXow1F7sF9OHQSIT3VTf5oncQ9UALN0Me+bKrhN8xbaqg3r6rmDoP5vfOxCieuiJrZiD9V+ZMD+oxANyKmj8oe5JoF640Uu/Oz6W/qGpDCTql58//xVf71f/LSng3/y//l9ZWvcsBGuuUu1KMcgAgkPYWbyoAaj9kur7dH4qAZqjCXL0x/PpW52HpSNUtF2Vo0Jjekj2yk1sLf0Bgp3EsU6/CuaKgJTLCSkG2b3Vq3EjSjzjWMzhq2v1bw5Ya/R0mOrduXwQVQAizP3G3YpP8W7Jz42Nc0IplVOBDeHZuzN7zsKegKnEVGcH6zCEdY5pzgzClwftnmQ5RRZ9exKmFBUp32azBD3uPfjvKecerOsBdF9RiEpHE+8wcxx++LTneSInQyc4vLPBo+M1KzI+eLd8x5mr8C0mE2k1J8a3PlmzcpuyyNAhdr4tAKFP6nYOjwVe8vjAsakHSzZv0Fa8WRb2Q3+CHcLfizUff2nRgfjE4g15Rlay8uv3gur4urLUw9dWhm70DP/8lKL4R7s7K9J5QPQAh90MlOQuT2Oa1h05Fqld8PCk0XCJjH1vFRoPt22gZHp9dretUQW26LGrj2fna3UN42nLQgJJgBvnctE5+B9k01/vEoyD3X3o6YmkAsmd+I7Qj6y0NyMHWFuqPiD6GnMV982cwg2HV3yX1wcaJ1eLJTiX+5Krt2d0iq2cqyTTe8jzfnIE4mlaz0q5UXFd0g2yyC9CoAJT3IvqRGAPuTgDETx4+uYH3lKpWMeETGT+xoPGvwq3zyOcRKDOPsIBT+48XlwFCeFmfU9wzkikikOvlaxRnrLTMCov/fBFrPJZqkB+bWMbeB0erfoO0D3XTEx1EmWQbNMfyy5tXGXSv2Ofl9iEmtJWeCVGp5TF9gCFOscg93Wu5ZNO+HyhtY4n/BmKmpok+KQLT1ZWtVy3M4POXWbyC/0vKtDoON+No/MFjz45kJXzB+U3nEkTnwJ+yPxCeXFF/zWOJpNi02WaJ0OcbCW+16GroPwYKRS3xVokhQ4VvSfaytbIx8FjpgsuZzGl9vjlfhVLDFfxl2xZp/qQMKMQAAAAAABH4FBVIaGBzdU7A5KqwZZb0kq40Tcue3EdOTi/rnkUOgvK6f6Jj+ueUIP4UCXqzbka16Zj7DtEDOcC5k9fk+SPsRS2acnR9dh1M/AK99GmZgvhYF59CjT28iScbjlBOO3llYFZtQXdS7FsNAalHBPHvlxDDrhFuq4Lfy99eYtJ5F7HsXOEgACM5zfP9yjPmTzTvxmo9PLBya1Jw5SlmAQETr4l1myBguk4lGp6emu2+r1w1f20Pzv8dBdOs0RUZLJG1wM9tAZAoVDkrqv9F1s/RHrh0ijUJYncA/8Cq6nd+3YW5pDSuIpbAjUK31vIXV56h4icXhWoJbX/AShYOfXs6csEa8XjPA45hJ2Qo2FUdAaOE396IdEPeqAwa22mt9jJn7oSsHJggfXVsFofBLRA7RIG28b9n4f5zC7m+nX2ke0M2LJFlNVUMGFuL8uAAE9DJ0arMaMe/lxflxcN0nY3wUVVtDGSwcellkdAPS8PT8DwfbW4IDpEEVo6RfD4nOnu5qOuKBm9gxzz2IYVzbhXurLLexoTj3xkgPhOasjRK2Qe7FGmkEWypr9b6qSgJlY6A1pHiaUZWPBcmYJkr9T8QEwGSme/yM5UPrsw7qy3Cr5El1Z7oecCVTZL5S9hdNr/BbUbcR4CV4DxsdsLbP2vmVuLhrG6srvGqhFmY9tD8VQ+qWB3cdJmXVOCbSlSaFX/8x3gVlk8k2VS6+TK3+py+KnkYikdaN1K4xoeE8fQkxzg5W1Uelpomc/aafYQS7sL1lmUkcWEh9jEzcETTVhaEzrN1/kOwVVxskB8OSJbJC0twdokPm4dvM2NZZDfRSzwH9sTcU++gL9/16sEAowqCTfjYw/h5ed8t6Nu0Jq5IP6HOsX7xmbKipciK18CoroR8DLoDgqpgE+DZusldy3L0N/dbDE9r/ZS3xQPPKAhji0Na3TdvzdaeZKGIoqC4WdOUxPkv9jEAHCrY5QoOAzc2GJIH8Ljcv1HfJnzCus4q0cSUDKDNt27WH2wCu5yZkKtoePQ/k3nP43nHxJDCGZqrRvev0NcLdO2VA7/9eMUYwtQJQgmf8WrnW0cotF7/HyGpN7lFSMIRq1s4jy5dAsrXIJmyEFfzS1Z/jEB9CH4EDpvIIkkczXfHCOLAEGzLagDPW/0GPNXiR8hZxuPP34HScJjsuFTKA6SGnjhj8hNe4Xt8Rfp/8jsqPv4pHa7GL13oQ4gpU9Bxy/6adX4l8GIwAx1Y5wYgM4AJMoCXOuuIlCTbErU8XoAw0TE4jxnSkLbsWBdHbKIHOd6aPs9K/xrvg89uw6xlKjTwEd13aHdEsurYvoi08KNjC0uHJMQEZgHFIyuDKhDeBRW4ypIBtavFGCrWCEMu9zV6dLeKXtcdgmV3i0ZNwV45uBhxIlRz36WKNvCi6fIlBaGBdOVhG3gvRxo/Zx7k1lQyPFp15pCUZkTDvOHDcNzIy6XIsxkVwSy1RMizXnr6wCz4QYjHIIw5YqPBfN3Qt9jE+de06n+1ZXIc6qnFcgDkIN45LaxOK7SWe5SDBA2h49/QLdLXtn/W0nRR3Ltek/AZasU0o80DF6FM4ODb0ahG1/JymJAM1cTsFIot75hADoU0vdopa+Y/WUeSdlGulcluXpljgMEWsi5p+tgkK91tkQzhe0uO5aGHUX/uG84qzeioBAP/bU3T5fac6j+7q2Dts5jaM9nZr9TdoQuuQnvZmvUM2m2MiLH5chlf/bwzFRUCQaTsGQLecu+sM+nQEGg5aKcZEQvezMN2H6N8xkAVYeSHYxkFvTusvUK73kfvqfjvvhwr2cNlW07nw0la9+y9wVJJjf8F0xPvUNUVe/ViTKTOF20XZHg4Kr06qkT8ZVqYHfbtj3TwrUeABPGk0ty5ntwu3/eVz+LGoB4sFY5Iy/pqWkmF0N9WbwoYZRp9Likbyrbk0gHpbjWOFY6ZagLYmudi1ZVxrMUZw8PKkx8l5X8x0N534JUopYNsgcwus7T3JMiNxvgqI+A/qQLeTUHQ5AH/XjbiUKX4P6svg+vMHGGBUlSiko8zlkXAbQjQxbA2WheVfwPrzXOiaaHA6SxcA4G4JqYsu9ef60WNhtpoC3Qh7Lh8Jajd+CS1yX/7lF1z3rGDKTq5TyiVHx3Qb0qTr7Dsh06MJ3IqHhMHV0R9fYXtdU3TkHGF6y2oODvUMbUr6+iSjU+mt4A9snQgvyYBVy+epFsNRNAF1a6ctYS1M9n2fnUiHXYzn81yxzOtSDUqxtdgP9sMN0d5PfEk4pidn8s8UE2uclN4xKEjhpZwWwTbRrr5vq5DDVR2Q+kC8igkWfIpW5ugfgA1EaVcX10MSXzvCrjouMLx2kcsqzfe+Kfgv8Zn95keAb+y807rhPYpvh6cT3NEi6MNALvB/E+qqN2sm0OrTw/UFI8dCn/dzfQUCXxAvdW3i7+5ajNR8rXfRzJayvMTglQo6cl26DpEH6hn0Nk/TG0/RK5/eO6p62V1dNPfcmEd+AFEkzL75Y5DLmiTvPI4TShzJUthmmKysnCCVlJCTlDdXqsJNBBoL6qjoEsNP7EXsTylYudB0J+lCjZV11ekbVvA2NKSQ7hr8CQnixbxLKZL5IeJ0Sj4XyiuYSRmAcZozItBsFeppX+Fz2jyxYNGDwocIj3mcDMhjUausboyr+n+Lt8zbYlqTAAC00qlaMo2wBc09wg+JhX1BxjuJM7jq70OEh68ZRYwkgh34asAtwfwn2Gf3jK6lHFnuICznRGm30kRzQfIJJa3E+AVQJYZUwDOc6hNA1kEu1I5W9Sb/zivcHH6t8KnrNCZbYrbZTu29/KxDYM6XuC5jRSQygFqxCzc/txhD5u3uNW3Jc0zW4Y1dQ6AWTDtkk+p6t6MwtQlwh6pLBV90+LAncVbb5FxAvnR/Xo9HjWRZ7nwIb+aNFy84txHwmuIOxR06+lNTpv3mIpzFXmDOUx31alKblSbiaxIflJ54BHmbf8flEB5s/nO1Ufto24nJcJ2NXIfJ2M85HWmqy6Vt9MDH5Ko8rmKO0l1OuQVa84zED2JRA6sKblU6JIeNKSEtffxen4lslvl5N1HmXUwgr5u/C6FYRMRve3cfrFQ296F0B5G3s0yMr/oHHZnc8WgJzoqWxhulYeQ0E2poSL06vRxfN8l0Ss5vP6rt/LpY6BU7mG+tdZBWUVTqmPK4kxjGSnN8CMMa1Ra88U66E0xH/EyDZvk8Gzj8vwzwwd+gloVvlgiFI0ESztyLJC1se2Z3F/pb0Lv/uqrsIZwnkuThVQQBD3Mc1a7LNPRVZewW/4F5Ckroy06YdBwHQfDW0oOYz2jig4/x18PJb1f4v8b3m3Zq4vQR9YnUBl1IigQmLDHqFL7h69GSrMRh5iGST+lqV4nDL70xxQN0v79JF3rLdTviFcuHYLg+MHz2kw6IhHXbGFdUfoPziY6rXaJ/dTIpLxAhJG5wr2pvSSQjafwtzYjxLKQSSLzlx2K48gMiwPrbe+Z1BKU/0p62FDMTAP9uaO0BKPaNR6jVQUiAVcqyTybFhh/t4LKxrfv0dJYLSgFrsUYzruIJOf9pLaxPHviX2QFJNS70sKxgV20CsEIbSP+5viqtC17c8AzSsp7O+AoYpQ7fz9XjtIIjP0TU2GBPATXIMKRdLEHeIf3qDip3jqVPQf4D0KxenokPMWjqYDiAHA/hG97snhzg3jivBJkubSuOPxQsyBcK1Qxkm99atarJweHX8TMmqUJ6osJ7pxgLLf2XHRmJi64/7a4opxrCQ23VxJggpAAB7Z9OInOrGiNisc0X+9HH7WpSoBSUfAdJn1k9Q6m+k8mXd13x6F7doec4wPjySiXInIicX0cIe2MwsAoGAxSg08EvWwgra23AxrMZff26pEGToAF2KQ0quRvAM78yZv060c4JbDWJdsAxjTiiwdzk1dZAHLNuZGqdfxTkkxzVSCni9ZAR9BScmoAWf4Mg/ogvibFqq+8CtplEqDm4Cgs04QPUeOYT1TpPTd/PYjAz/iQC7Knf0FZM/MJc2Z4DM54nc9sO64J/qh+tkGJHi7IFUUY5bSFfL43Mw89DUoVkP7j5XiX6Cw/A+g0Aq92UfXIXNYizNl90+BlE+t+26oUL69fhtaMJf49t3Aje5LwDNlNlHxxJ8PIlZjKkVMOSmBqXP84SnJPPV6F6UmpiYbVChy5eiZ75Z1cWE8FmSkqZ+ZTJCggmHdYPP2O4Z5YNGHCokqlnZChAEf3SR0qJr9kgUvJvcmRwV8t7JwxHo3VswLffoaUJesxDJla2fn0itP1YYHsxoMuy1srsbdc96cD+rW8QfhmJlpIqh58rkoXDXpPA1USZKW7yV0ccCTEXO/fzLRZ5JTUsucf6W+rYYIItNe6iLYgKr2hcEUadr9+bMeHFc1PWZ3FMLW4xqXwLf2Ua1ba64onoplcMbp9yWh0U46lNGbhgnllqf44lZz1cLk8cG3cGhtn04e3CquQnWJN5wesJa8QJAqohqv5OeWkeRknK2CRi/4FIbrB1A0cNucMQDnY/CJ4QHIUFWAs8DUrcN1R3/ze7KyIFgSvVnCuuFRLlx3fXJdAIS7UIg7NM2ZiSOQnS8CnhZN8phyH8NDVM9Wmpf5DmXjW4bCD9jBaH7nJXTEF4y3HXzwOh4fRla3Z9t0FKizjCxN7pUv4YOsgL4pSZRwDIGpoP3oUZvOFRJyNGkUCOkh8a5/wYH1LVKQFqKnYQLYTCI48ipOU6SwsrST5oZ15p9E2DMUvsCVdhbI5oBVwez7lTPRTXpgy6pvnvc59Dn/+1qUJIn79Yhf4Epc8jKWQZMpBNLXHys7V6AfYaJMY+3r33o8deAbw9joNMGjez79cqoxVSVL+Jyxks82WqYZQSzKGaMIhWyAZFl/0hb5p4FTTC+XoYMIEYSE8rJtxs8wqnhuLdGc3brKStlNs/liyS5k2vIaSj4sl8SV6evdECSpsVo1CLjtplMdEHADJMgiHCnmz2GCqv8UV09INqDp9ZERRU3oo4fgB/Ywxa2DjarE205BsB5prGKkGdrRKOhRAt0y9UKrLK+xO0q8rKxJMv7O6w0WEabhJkR3DCTMA+eSoZJJTE7+FzoQDg8t0Trn5l6hHRVYU+dkMCgXaFU3MNqYaVXxI4uXQxxI5tuv8TEiMUVlGLmJhQeX91LsgU/ypgZztOGv5kFnwt5EjZxBifSVB+ocNaqgXvhYXUN3sfwTrbNajj7+Tj8QJsqK4kY1m5z1YHJu+8W4aMGv/KQyL6LrFBgtR5vCd/q/Zgxmx1XaVUwFIJYmHpAbPMcg+DV7V/1qwvQZxXroSguUYFsBi0VTE1qheJ2Dl250DZqDBPmUxfJ5FNEgcU/mv3cjfacByFzvZHxpnnvy2r4OboPIqmVZXQ6ve4L4Q6wkfkZvioPwNtwILvG1y3+8sf6zL5yz6ZvzG4W0FJMpfY+HgBe8tz8oNNmh+IHApE7y8M6U4B6LSetTgYXz+RXwWrzCCyxMVCZZtheZVtAb5t5kpWHS2kqi2wjI8GkDuKA3pdoCPg+35doCPg+adG9ml8kVbOumc8Yrx5KMh1MVn2Vdz10Q1hEuPlA1VsqkqNof2G2tWUtNOAJLShKNZQnB+1H1ZZjbXXpeAjV3wkdW4VhMx/ZBXhL/HkZ2WA8oqA3YT2NoqbHcDJ+GiWrNLEHTSuUrjzzClihdXNgeWyxMXLX9btXPXWNRvFvPB8GgzhlmSwC7+mu6zBQ9iESe2yEFyaQbgbdgY64EljwM+zC1hfhIvTv0n1zfXJaoKkdU2dmZ71e8g302r9NebM2yt5XYQLSK6Po2K9jg1bviz+SX2miQr6B2UMnwr+kfo213wD6li+rsXobC+Q6h63Zz0trf67ECFyyyKHI+sElNOQU9nT5rhIEYAYGmn43txGR1KFD3YptlhOM5TsXvbGspXmGeoUVEjYaaVjFqNN7f5plazVCbr6Ynob47leKiuYouOCMa/23JW6ijpDizjPYm/PpnmKC5YDCC72XA3bqAJsJXJHf7Ev5gxC/KZ3Y9c3CJmFKNUaWNfCiG3nnJjxyJePnOHmc4PdeMAZzYIxUmnM3wqdxLwd4UZRB0wEX2MYE+v0uUXfpQJ/DO1nGceuWCeH+RdqE7wop88o4IaSpIZGEMZkHcVhTJ+uOIcHQCfeATzWG6Cd1R/33yvZEKFgwY20DEom8p0vfOE3p0dd0ok2S/8n/1wOwMb7v9ptDp/O22TfPhpbLVIQ8KyJhuiHHj8EmKTOE4WvjVBf2wATWiE+cbDFTnMb1EAiXOoYQRxHvUdkUVdM/fv3QzavNrLNSq4fVVGDsCGjwKgrC4qF7U7WfmPOHEDFPWqfQADxQigKwdy95LXYMPdAJnqp3Xps5zwT3KOWLgUFLon0DzOKtfeYIYNmF8OJlOzp6ee2Voorxi1+C89uFZDlEc12yGwVlz9/5Ge2yyIDqvUL3LW9x+RdkYf3BCoolfkjRQgcPjnYPCJ6hjPxavgjHaxjkfBzR/mph5cpblNuVUmgLvAePRL2DShyQuXMoAftcmQgIdCWwqIVYrKGcZYFuhZJDmA5B2OZm115FmGUknAthQIhQL5P7HdE5OAIrb15k+IEHjkdKFMfLLj7Dvk+AQsj5LWmQkxTJDltmSP32XII14cdSCZoesMddleoHLKZrTid05dd6IptZGm2suGNsnwo09rirTnov1Kl9OpZL37e6NwjOk47VXkAzPNgH0Ff9aIcwe9Ko6ICN+MUBsRbDra/hRau6ItW8mSoeem8jH7mW6NNRq5RH81crpFeLuX6b7rTSEtdoA7Iy34cBIRAysQfKsqS9/VygT3ddoAK60lJENL67X3//bjre4oK66l4c5rDSLj8eVyXnpKpF6XRCEaRkQkW7hQ5b/uYZiXZFQlk4/T+jO4KWoxqjJcfZ7EKeOC8+6KMVDDBvH8KY3AksvSxB6+klyw4wX9/HwIzzchmWh0YpgN9XPo88uRemVacHHBYdfssUwkyOZptUNayJD4YI2zRdonhE2Yd1rHgweIjL6g8WbIHNsZZWmjd5+ZID4WLblPub2h2E//cCMTl/V3doKe0tBebO8FtqMgVKEswjfDtRG+03+D81yrfvE5mlF7+PjN9kWgEFrdEX1xSvF/UoXiQ3z5uT/w2Gs1hCY2xRkCTochrBYKx1QJ4yavhqPm7P09Z677wcDFFNM/T+7S81tYrEDWT3TL7amqaY+0FQabNfjBZfjKe8dAf9wbyLnMlN+/AMg1Xt+UmV8zQyFj93PbJ4O6BLj/RMegwHb8t3NXJCF/T/NccI5iVS6PCEkxpikcHhP+EMWZm0wOrSNyjPCxV4TKgtGln54CaBXgjaX9s9LTSN81Ku1it+KrVhaOOO1uMSc6qZkVBJbYlMGoAhZBP3w5z0tVCBUhokayGOQ1M1k2oSuXuGWo6/YgMBLeOMPjuro19H1ZuCAlbPxzDdPR2eZ8U983BC5QJl4oyUudZxEA6GQytc9Fp0mAwQG3SVOhxQlzRUL2nbMRh1UwSYuSJWoJjIX691D17yikigNyCey4afWSNMjL2f8P8DqoBnPOHMVqqT0q0RL2Cvnhc3g1d5oiSY2RBoaCX/xZpjBjEmYdUQ40FZgPeDAEhHK/XyBTi1Yrdfh6ofaFBRfCnokJf90kkBjVOof4hvc6jbm9KUuhKcnxVio0HGtLQg8s0FLsa/IUxZUVctilWRlUjD4/xv0E02Vd69DkXVQJHIt0cun9BviEq2Q+P8qtu79mt2Wvb/LBo2+11S33U8aznLbSDFrd3gGbdjFb4l/37d6tMRdEd5HA1m8vnDIn6hK0vqx0Bwaeuf86AKlxUYDbeHc2icYC46+1yLNYyBXTxu2JsC6EhWAb3zOjSBFsTCPtDyRvaxRflqQ42lCSVmSmIH4tKaw58FdQcuD/CvMeLFdarVwMuSVhfwqwrFcWPwtqBrQL2BHTgd4OaH6A4ir1eHahyJJGbBllbHyMLk3WhpHF1vx/01yG+a5BctUxOS7MuDodmCsh7V4+U0pmt0tXtttrHsJZGkwK+hyRgBkxreTXCqxb9OGncJ3jvEvxeWTlf48AO0Hl3a8AMDndo0iyf0pn4cfM9FSfWnBVhzqbDL2iICyfJUP7fGlREjZq3UitRo3RqZnlnl1R+xY8LSKiP1pJqbQx3PbGtfbzohU47iHTvcO+s1PvPvR/OlxG+tSqSZuC9jG/3/ZHS01o9JHUKL0bvKUKjGuD/Hv9HWZrTqvoNBuqneQ/0G5/my76tQySl5GY+k7efpl/IXjJSG0f/gf0Qvu3bHkk5fwdypqDttRxEkNGmDprnYdnW1vnHONaBytKk2RxA7aMob97WTp1wWMyea76l32zM6YnYIJ+BWRg1I3obOE43CzU2zoGlmy/i8pa2qy6/MAlHG6nN7PzFgfc0troV+3n7PxTI+UtR4OdiqUYACfVXiybYqp9gENyosKz1yxzNrzBczjkkGvKnRWwVKZozv3CpWGTn2xjyxK0hhzpmuyCFzPiQbtzBABR1vDmostusTIs3mmYSvTtatgvDNbLa3mrlZSMNe3wjYJccLksOsguGFcBCQJmXgJz09mpX2m4na3kdjttovfcOCThjiVbhKxG6GKxDRePGYLLhwyud8SNMTCGUBWJUr8GPNQOI8oWL1AH5G5eA9+WurJxdgM1lTyJPne4j7v8h79QVTZYBauzcX1mytN0CwK4Sb6vncdpVJqjmQwrBaICRBicLLw/Fhic3J9ChrASyWdDT9uGMTLm8JAtH8O+FWTkocJwQ8UIBZoIJIsLujSLDJYamUo3CLAHmr68zHi0IMKV6syQyL2/4mZsaBmyqKHtj+Kt/DOPBFujzYsTblp3eLUh/gEQ9RnvN/B5lkT5S0Y5N0QVk/E7iRbGChGjk+7yEfI/6qtjn5Az1mgnJKz9aL1TWp6gvaNvvrag59fj3R04hQ6GPC2cpaUFgZVVSIB0SYfVz3pnOe6RlfXtgwVwEYG1Wijg/hFloEpD+oeHqrNS3haLVB3aS0plo4sPIvOj7CkgrxUFjniV0wiN4x2xwTdP9102kzlF12u3qLScut7sJwfvIf/qS7OOLW4OeFaHr0V/VTRs8VEeMsRlPQKM5azTUmiYCIW/FFRkGbbzPB9sUNNmfkBztjXwRtztXmIKHd72cmT64ADLlkqCxWYA0coumDMKwU+FiE6alZoE3JrGOTErPpAqIQufY0p9JiKBZIfpMT1ai4M/n9ldZU90HbxL/ELdJ9toua4xJ48Jz58sRULuBwMPJcHvAAFZTDkaBDxNotjowvmGVCkS6J+CEez9d/73D2R2nQBkVCE4yrdnT61FIqd12Dyc+nnPjaDtZT07CDSN/MU6HqjzTTI85OoBrcfac93Or5TJWf6ivNFK1lSCv6LeMa21S/dm5Lsi4jH57mEBK7Gf+3s9YBSnqxndQkHSrMj+dvll2+eaperLTLTykrzJwa26Qg0FsM1TbmXe4wACVU5vYy1HMM0vU+QFi7hGyke5EY9hdzNJQj8BN4Xbmn8y+llrdIDKzJmvhwD6bfUt3TMJ9C+kPG/xBfpfi/waLPK0+e1Td+fm9gof8lfhDtO00RFyHE0J9Bn4DYrJNRiI1H2P/Fm60NaHOSde2cfqTr7WWPNb1i1oEyBZZyN1ILItGY0aKRD13IwSxnvYHbSWUSKv3gDqJZ8jSHx+Kxtqk3UwXXb3qIles5Rl4Mx9bFTGIroRt8oQ0q75R+8cZ0e8U/AuPtYJa55MY8K56CJmkKsAbMcummZbj96VjmkPg4hcEFze1vv31GmfdasJ+qWOxr1Pm9cZrceHP30g29YA/pr3FptOUMy5+4qvA3ZG9MoySjrpxCHhPTU4ubdcO4YUNiBCIMgpCHOZCJ1GjB9aW5+gIURVyLAu8WNJ6585AXjlkZSnQz8O0vWwScp5edPh2lJyAHLBIB/p+kiJ8rGCVJxdFi51ylNYkuqKJZ6syooW9FXiMwC3MAX8u4sraTcZzr3U+YO8ipOFVuME8kKtaeIKnoUna0vJDYR5dcmPbET5wW1n+KUcCR0yPJb4O/rVu63h1eLpmFK+g80XJvnPcMX8oyFv2p+pB6vY8I5QCz8lSizJrJc1WTCAm7bZLLXGABeGbWMBskYFoawCRJ0b7JFnkaYJfl3tzaRFgLbc8g0l6HZuw4pNXjFX1EeCbY76esJVhjUMR/+gXvjRSMtBeODrsJxgr4U9XYW8/a9hFn1Tr9RCq/hxGM4u3kSh9bAif748b+2Ow08083LFbMony+uA8BSzKZAvHyX/q4YWdZHuDzmXNphOXjPkKQfMS1gHIjwfuJ1MJ4qAOC1Gror+pIyJiH3zSfWcxweL8symX9zTL6+Rm/797uH1yPoGaBQe5nFOx2G5QB0KWratCjkKuWMkJ4bqQUEgWwiaRJxR3Wm6qPUoJR+KpjlqazI6yTGWupziiIi5BV5TTS3GdcmzpwbnBUE3LAX7UAQ4DO7g50WIMPgG0zcWvrGi6WjVczqAUltpTjpmd9w0Bt2jw6lbN1iJggSSpl7Y76VUzggXW1EDhrOBYEgQvCzZ5RdBvUW/Iqo0227PZTXy8yRHam//5QP2xyQgoUtPP+LJ6MUuHSwt1UU0JtjniaLy7jAQZlZ093DcUdaPJWN+QAZr4sMPuOMVbBGW74t6ZarDa45e8pOLtkVBQgbsGoPXS9a2sxBGYcFIMF9+rJVM83ELD8B+sUjQ8uaqyUdtdzX6AQ4T0178d3xFemEfe/TEXsyWl/eh9Pw33JM9gvTfVVL0zUn98Njv+G2My62BCdNTXfP8/umLtnyXbNI7csf1EHcuv3ylGRt6LlaCn9EGYf02wUKROAE6iPm0V61mTespUF0ZdemW0d52YfsYf/ML+KZQVz52Iy2HagRTMkTvXJ33PAVUBpdJXYDSgi+aZHKU6KKEIQVEKgsCCgAdNj3/lLvx3ENp4s5Pe9PAzL+x8MpZjmxyNovTizlhBJAC8CC6Cgo/mMm/zT7SWciXbAu6vRbril5ikVqZKMHP/1PuCcABZPGzI/8YrKwkDuQ5omaGjMdb1JwqMh9/RrIs7J5a+YhCcLkTL+nqsQ3Vc4wElTSAJ3JyytT3WEbcz9jLz35PZ/UpBZY0i9BDpRD2cHkRU80GUom7oOnfbGrNRGcOgdcWVs5bAca6A2uvq/oRG9gNNa1+4MlhjZXzwFchlazt2r99vd+dWexKBYQRuy+MgXov0Ao6X7FaX5dwFdJhtmxFcnTWHa0i+A/j5036rr0QkekhempcDFXSk+k8E8Fw+rof4tABMfz75+qnA9FBvuEhAi6ayHRSa4oMWtbe033c2gGL/0lPw6DJa/c75ZzH/DbbTJqhqmJUgnDk4/6x2yND09BURMj7YZYONh6DxUJiAD6OukZT6M6k604nsYeeeTDzXWe2hJdXTSx5iM23eodqo5FygYaz08s7B53vHFtkT85NL6AIl6qoXBjbu5VJXSSVRl03UbEoKZwU+rw2G/TlVSh/5i434to+Qy6yZv24K9H++YPXU7YcjDr/zNbTWq5Nk3s1dwoh4BRcnIhq2TlYg+vqiXDo7/luDCarYRXmbKG1ntOP6T/Ag0O4vrdt+hHl3EqFAZZ4jBUUb5WcCFJ3cWQUbTk+L43AATK6oRM5D0Gn7PwIZWDvsuXHUnFqWt0OGZs/WKxUQzY27xz6esrVPKta8ph05nYpi8pfj5AN6rRCaf3fZqoEsnBgXJiuUpk0YhNG+AiULjhipeTsO02O6KLIXoILTLanTXTxNXvoOn8iyVSxH4GtnEQ/JeecpV+UH3uxL+0x5NzAEspJJ2GZPpo3MDqlEqq7wc4NTSLCLpNhZfDsLF0mmzvyGwy6uBEu8aD9gzf/4skyoHneXhIy/lagw5F3+AAZUaRM6my81D2zC6+tUkxE2VkrfpLDlO8chI+UaV070Ck6cNTbAezJG1/RsfKXfcQ1WFfKpzKP8/NIbnYLqzRPpOQsXbADNw2pNLUcuJN8EL/nPYdu+C0AqC1NC6OSl7cIf6kZo5/r23iBqh+WpJZtnGZw/8uIRo6NX2i24sh6Jswtuw5nHT703KF5xBoI1JoWYzJU9ChpGe8dhvCxBR1SvBazAHTd+QDu+zAmYBQXc0VP7mxgTU47bewYKZm3IOlaBAXRygAE4Qk/UrT8kSS3i4+F0oz/JE/zzNveJxuNEkQNsq2PlILPeidjkJgUeQuH3wegAnDkJlfKhcMQj2isOv3BDr2JKKb/wBLOs4kSQ+RmNxIk8HSmiEzwSA4cUsL5Tpz5OwNRHc/gCfxTCWrz0DJVQ2LgXSvkOMMrU4El0pqP0xcSi7+jlm8Jn7gky71ZI/n33GblXoDXXmk41KuXpWW22P5B6FyrAB1ZiuO2Vdz4iiLV4u1yvDeJteoQ7yVL3v0OxMkrCpiKWh0H86nJa/VfIBucNPgp83Led5r+wtQB+DqnrWUs0JX5mykgVOusoygAAABt3/W3VYCOo8HTU3O74XESasmBrIgevVTRURKa0Z1J5zPlsyGLyWZzrBuQIXaNoCweJrMgKzw8u9MH/r6puhr3pLWQ5GeeTJXEtlkb51NUoI1OA2X+1JBkRuynV40Yh0wsABuEm4S13uQATTw7ikAAANmSofZCP2+KpSi2UXXpsu77fQuDi9mqg17ELMh4MoTEXiUbs/f6LxFXsmZJVcyTH/Ct91rQ/GgAsWgocI/aWgU8cjOFlfzAAAAAAAAAAAAAAAAA=)"
      ],
      "metadata": {
        "id": "mtQpft_CYjii"
      }
    },
    {
      "cell_type": "markdown",
      "source": [
        "#neural net Arcitecture\n",
        "* **green circles**: those are the features of our problem, usually columns in the table\n",
        "* **blue circles**: hidden layers(for a deep net it will more than one layer comprise of consistent number of neurons in the each layer)\n",
        "* **red circles**: output layer(for binary classification it will be one and for multicalssification it will be two)\n",
        "* **neuron** : f(wi * xi + b) where w is the weight and b is the bias and f is the activation function(RELu or sigmoid or tanh )\n",
        "* **Relu**: Most popular activation for the hidden layers\n",
        "* **sigmoid** : most ppular activation of the output layer"
      ],
      "metadata": {
        "id": "jEJBwrxrZD_4"
      }
    },
    {
      "cell_type": "code",
      "source": [
        "from sklearn.datasets import make_circles\n",
        "## creating the data set for our problem\n",
        "n_samples = 1000\n",
        "X , y = make_circles(n_samples , noise = 0.03, random_state = 42)"
      ],
      "metadata": {
        "id": "bf17E0kDbpmS"
      },
      "execution_count": 1,
      "outputs": []
    },
    {
      "cell_type": "code",
      "source": [
        "X.shape,y.shape# we have 2 features and 1 ground trouth"
      ],
      "metadata": {
        "colab": {
          "base_uri": "https://localhost:8080/"
        },
        "id": "DmrV2-l9cVYF",
        "outputId": "79f047da-3469-4dbe-ab7f-8ea1d7e489da"
      },
      "execution_count": 2,
      "outputs": [
        {
          "output_type": "execute_result",
          "data": {
            "text/plain": [
              "((1000, 2), (1000,))"
            ]
          },
          "metadata": {},
          "execution_count": 2
        }
      ]
    },
    {
      "cell_type": "code",
      "source": [
        "# lets create a panda data frame for our data\n",
        "import pandas as pd\n",
        "df = pd.DataFrame(X,columns = ['x1','x2'])\n",
        "df['y'] = y\n",
        "df.head()"
      ],
      "metadata": {
        "colab": {
          "base_uri": "https://localhost:8080/",
          "height": 206
        },
        "id": "f-L9KBmtcXOM",
        "outputId": "783ceb54-df2b-441d-e103-d6c0a530f1ab"
      },
      "execution_count": 3,
      "outputs": [
        {
          "output_type": "execute_result",
          "data": {
            "text/plain": [
              "         x1        x2  y\n",
              "0  0.754246  0.231481  1\n",
              "1 -0.756159  0.153259  1\n",
              "2 -0.815392  0.173282  1\n",
              "3 -0.393731  0.692883  1\n",
              "4  0.442208 -0.896723  0"
            ],
            "text/html": [
              "\n",
              "  <div id=\"df-cf2d97c3-97e8-4610-8e72-460baf17c092\" class=\"colab-df-container\">\n",
              "    <div>\n",
              "<style scoped>\n",
              "    .dataframe tbody tr th:only-of-type {\n",
              "        vertical-align: middle;\n",
              "    }\n",
              "\n",
              "    .dataframe tbody tr th {\n",
              "        vertical-align: top;\n",
              "    }\n",
              "\n",
              "    .dataframe thead th {\n",
              "        text-align: right;\n",
              "    }\n",
              "</style>\n",
              "<table border=\"1\" class=\"dataframe\">\n",
              "  <thead>\n",
              "    <tr style=\"text-align: right;\">\n",
              "      <th></th>\n",
              "      <th>x1</th>\n",
              "      <th>x2</th>\n",
              "      <th>y</th>\n",
              "    </tr>\n",
              "  </thead>\n",
              "  <tbody>\n",
              "    <tr>\n",
              "      <th>0</th>\n",
              "      <td>0.754246</td>\n",
              "      <td>0.231481</td>\n",
              "      <td>1</td>\n",
              "    </tr>\n",
              "    <tr>\n",
              "      <th>1</th>\n",
              "      <td>-0.756159</td>\n",
              "      <td>0.153259</td>\n",
              "      <td>1</td>\n",
              "    </tr>\n",
              "    <tr>\n",
              "      <th>2</th>\n",
              "      <td>-0.815392</td>\n",
              "      <td>0.173282</td>\n",
              "      <td>1</td>\n",
              "    </tr>\n",
              "    <tr>\n",
              "      <th>3</th>\n",
              "      <td>-0.393731</td>\n",
              "      <td>0.692883</td>\n",
              "      <td>1</td>\n",
              "    </tr>\n",
              "    <tr>\n",
              "      <th>4</th>\n",
              "      <td>0.442208</td>\n",
              "      <td>-0.896723</td>\n",
              "      <td>0</td>\n",
              "    </tr>\n",
              "  </tbody>\n",
              "</table>\n",
              "</div>\n",
              "    <div class=\"colab-df-buttons\">\n",
              "\n",
              "  <div class=\"colab-df-container\">\n",
              "    <button class=\"colab-df-convert\" onclick=\"convertToInteractive('df-cf2d97c3-97e8-4610-8e72-460baf17c092')\"\n",
              "            title=\"Convert this dataframe to an interactive table.\"\n",
              "            style=\"display:none;\">\n",
              "\n",
              "  <svg xmlns=\"http://www.w3.org/2000/svg\" height=\"24px\" viewBox=\"0 -960 960 960\">\n",
              "    <path d=\"M120-120v-720h720v720H120Zm60-500h600v-160H180v160Zm220 220h160v-160H400v160Zm0 220h160v-160H400v160ZM180-400h160v-160H180v160Zm440 0h160v-160H620v160ZM180-180h160v-160H180v160Zm440 0h160v-160H620v160Z\"/>\n",
              "  </svg>\n",
              "    </button>\n",
              "\n",
              "  <style>\n",
              "    .colab-df-container {\n",
              "      display:flex;\n",
              "      gap: 12px;\n",
              "    }\n",
              "\n",
              "    .colab-df-convert {\n",
              "      background-color: #E8F0FE;\n",
              "      border: none;\n",
              "      border-radius: 50%;\n",
              "      cursor: pointer;\n",
              "      display: none;\n",
              "      fill: #1967D2;\n",
              "      height: 32px;\n",
              "      padding: 0 0 0 0;\n",
              "      width: 32px;\n",
              "    }\n",
              "\n",
              "    .colab-df-convert:hover {\n",
              "      background-color: #E2EBFA;\n",
              "      box-shadow: 0px 1px 2px rgba(60, 64, 67, 0.3), 0px 1px 3px 1px rgba(60, 64, 67, 0.15);\n",
              "      fill: #174EA6;\n",
              "    }\n",
              "\n",
              "    .colab-df-buttons div {\n",
              "      margin-bottom: 4px;\n",
              "    }\n",
              "\n",
              "    [theme=dark] .colab-df-convert {\n",
              "      background-color: #3B4455;\n",
              "      fill: #D2E3FC;\n",
              "    }\n",
              "\n",
              "    [theme=dark] .colab-df-convert:hover {\n",
              "      background-color: #434B5C;\n",
              "      box-shadow: 0px 1px 3px 1px rgba(0, 0, 0, 0.15);\n",
              "      filter: drop-shadow(0px 1px 2px rgba(0, 0, 0, 0.3));\n",
              "      fill: #FFFFFF;\n",
              "    }\n",
              "  </style>\n",
              "\n",
              "    <script>\n",
              "      const buttonEl =\n",
              "        document.querySelector('#df-cf2d97c3-97e8-4610-8e72-460baf17c092 button.colab-df-convert');\n",
              "      buttonEl.style.display =\n",
              "        google.colab.kernel.accessAllowed ? 'block' : 'none';\n",
              "\n",
              "      async function convertToInteractive(key) {\n",
              "        const element = document.querySelector('#df-cf2d97c3-97e8-4610-8e72-460baf17c092');\n",
              "        const dataTable =\n",
              "          await google.colab.kernel.invokeFunction('convertToInteractive',\n",
              "                                                    [key], {});\n",
              "        if (!dataTable) return;\n",
              "\n",
              "        const docLinkHtml = 'Like what you see? Visit the ' +\n",
              "          '<a target=\"_blank\" href=https://colab.research.google.com/notebooks/data_table.ipynb>data table notebook</a>'\n",
              "          + ' to learn more about interactive tables.';\n",
              "        element.innerHTML = '';\n",
              "        dataTable['output_type'] = 'display_data';\n",
              "        await google.colab.output.renderOutput(dataTable, element);\n",
              "        const docLink = document.createElement('div');\n",
              "        docLink.innerHTML = docLinkHtml;\n",
              "        element.appendChild(docLink);\n",
              "      }\n",
              "    </script>\n",
              "  </div>\n",
              "\n",
              "\n",
              "    <div id=\"df-92d9f590-e9bb-4fa6-9f33-2bcce2a9ec2b\">\n",
              "      <button class=\"colab-df-quickchart\" onclick=\"quickchart('df-92d9f590-e9bb-4fa6-9f33-2bcce2a9ec2b')\"\n",
              "                title=\"Suggest charts\"\n",
              "                style=\"display:none;\">\n",
              "\n",
              "<svg xmlns=\"http://www.w3.org/2000/svg\" height=\"24px\"viewBox=\"0 0 24 24\"\n",
              "     width=\"24px\">\n",
              "    <g>\n",
              "        <path d=\"M19 3H5c-1.1 0-2 .9-2 2v14c0 1.1.9 2 2 2h14c1.1 0 2-.9 2-2V5c0-1.1-.9-2-2-2zM9 17H7v-7h2v7zm4 0h-2V7h2v10zm4 0h-2v-4h2v4z\"/>\n",
              "    </g>\n",
              "</svg>\n",
              "      </button>\n",
              "\n",
              "<style>\n",
              "  .colab-df-quickchart {\n",
              "      --bg-color: #E8F0FE;\n",
              "      --fill-color: #1967D2;\n",
              "      --hover-bg-color: #E2EBFA;\n",
              "      --hover-fill-color: #174EA6;\n",
              "      --disabled-fill-color: #AAA;\n",
              "      --disabled-bg-color: #DDD;\n",
              "  }\n",
              "\n",
              "  [theme=dark] .colab-df-quickchart {\n",
              "      --bg-color: #3B4455;\n",
              "      --fill-color: #D2E3FC;\n",
              "      --hover-bg-color: #434B5C;\n",
              "      --hover-fill-color: #FFFFFF;\n",
              "      --disabled-bg-color: #3B4455;\n",
              "      --disabled-fill-color: #666;\n",
              "  }\n",
              "\n",
              "  .colab-df-quickchart {\n",
              "    background-color: var(--bg-color);\n",
              "    border: none;\n",
              "    border-radius: 50%;\n",
              "    cursor: pointer;\n",
              "    display: none;\n",
              "    fill: var(--fill-color);\n",
              "    height: 32px;\n",
              "    padding: 0;\n",
              "    width: 32px;\n",
              "  }\n",
              "\n",
              "  .colab-df-quickchart:hover {\n",
              "    background-color: var(--hover-bg-color);\n",
              "    box-shadow: 0 1px 2px rgba(60, 64, 67, 0.3), 0 1px 3px 1px rgba(60, 64, 67, 0.15);\n",
              "    fill: var(--button-hover-fill-color);\n",
              "  }\n",
              "\n",
              "  .colab-df-quickchart-complete:disabled,\n",
              "  .colab-df-quickchart-complete:disabled:hover {\n",
              "    background-color: var(--disabled-bg-color);\n",
              "    fill: var(--disabled-fill-color);\n",
              "    box-shadow: none;\n",
              "  }\n",
              "\n",
              "  .colab-df-spinner {\n",
              "    border: 2px solid var(--fill-color);\n",
              "    border-color: transparent;\n",
              "    border-bottom-color: var(--fill-color);\n",
              "    animation:\n",
              "      spin 1s steps(1) infinite;\n",
              "  }\n",
              "\n",
              "  @keyframes spin {\n",
              "    0% {\n",
              "      border-color: transparent;\n",
              "      border-bottom-color: var(--fill-color);\n",
              "      border-left-color: var(--fill-color);\n",
              "    }\n",
              "    20% {\n",
              "      border-color: transparent;\n",
              "      border-left-color: var(--fill-color);\n",
              "      border-top-color: var(--fill-color);\n",
              "    }\n",
              "    30% {\n",
              "      border-color: transparent;\n",
              "      border-left-color: var(--fill-color);\n",
              "      border-top-color: var(--fill-color);\n",
              "      border-right-color: var(--fill-color);\n",
              "    }\n",
              "    40% {\n",
              "      border-color: transparent;\n",
              "      border-right-color: var(--fill-color);\n",
              "      border-top-color: var(--fill-color);\n",
              "    }\n",
              "    60% {\n",
              "      border-color: transparent;\n",
              "      border-right-color: var(--fill-color);\n",
              "    }\n",
              "    80% {\n",
              "      border-color: transparent;\n",
              "      border-right-color: var(--fill-color);\n",
              "      border-bottom-color: var(--fill-color);\n",
              "    }\n",
              "    90% {\n",
              "      border-color: transparent;\n",
              "      border-bottom-color: var(--fill-color);\n",
              "    }\n",
              "  }\n",
              "</style>\n",
              "\n",
              "      <script>\n",
              "        async function quickchart(key) {\n",
              "          const quickchartButtonEl =\n",
              "            document.querySelector('#' + key + ' button');\n",
              "          quickchartButtonEl.disabled = true;  // To prevent multiple clicks.\n",
              "          quickchartButtonEl.classList.add('colab-df-spinner');\n",
              "          try {\n",
              "            const charts = await google.colab.kernel.invokeFunction(\n",
              "                'suggestCharts', [key], {});\n",
              "          } catch (error) {\n",
              "            console.error('Error during call to suggestCharts:', error);\n",
              "          }\n",
              "          quickchartButtonEl.classList.remove('colab-df-spinner');\n",
              "          quickchartButtonEl.classList.add('colab-df-quickchart-complete');\n",
              "        }\n",
              "        (() => {\n",
              "          let quickchartButtonEl =\n",
              "            document.querySelector('#df-92d9f590-e9bb-4fa6-9f33-2bcce2a9ec2b button');\n",
              "          quickchartButtonEl.style.display =\n",
              "            google.colab.kernel.accessAllowed ? 'block' : 'none';\n",
              "        })();\n",
              "      </script>\n",
              "    </div>\n",
              "\n",
              "    </div>\n",
              "  </div>\n"
            ],
            "application/vnd.google.colaboratory.intrinsic+json": {
              "type": "dataframe",
              "variable_name": "df",
              "summary": "{\n  \"name\": \"df\",\n  \"rows\": 1000,\n  \"fields\": [\n    {\n      \"column\": \"x1\",\n      \"properties\": {\n        \"dtype\": \"number\",\n        \"std\": 0.6398365674574611,\n        \"min\": -1.0595024599098635,\n        \"max\": 1.0337117525463373,\n        \"num_unique_values\": 1000,\n        \"samples\": [\n          -0.3751930206933384,\n          0.015380346701456493,\n          -0.7027835978832848\n        ],\n        \"semantic_type\": \"\",\n        \"description\": \"\"\n      }\n    },\n    {\n      \"column\": \"x2\",\n      \"properties\": {\n        \"dtype\": \"number\",\n        \"std\": 0.6411559581015379,\n        \"min\": -1.0677683182718436,\n        \"max\": 1.0360036756154805,\n        \"num_unique_values\": 1000,\n        \"samples\": [\n          0.6826597225888621,\n          0.9600260220697324,\n          -0.3147169925147762\n        ],\n        \"semantic_type\": \"\",\n        \"description\": \"\"\n      }\n    },\n    {\n      \"column\": \"y\",\n      \"properties\": {\n        \"dtype\": \"number\",\n        \"std\": 0,\n        \"min\": 0,\n        \"max\": 1,\n        \"num_unique_values\": 2,\n        \"samples\": [\n          0,\n          1\n        ],\n        \"semantic_type\": \"\",\n        \"description\": \"\"\n      }\n    }\n  ]\n}"
            }
          },
          "metadata": {},
          "execution_count": 3
        }
      ]
    },
    {
      "cell_type": "code",
      "source": [
        "df.y.value_counts()# our split is 50 50"
      ],
      "metadata": {
        "colab": {
          "base_uri": "https://localhost:8080/",
          "height": 178
        },
        "id": "E4V77qU4crWl",
        "outputId": "1004235c-bfaf-45da-d10c-1996c74d46e5"
      },
      "execution_count": 4,
      "outputs": [
        {
          "output_type": "execute_result",
          "data": {
            "text/plain": [
              "y\n",
              "1    500\n",
              "0    500\n",
              "Name: count, dtype: int64"
            ],
            "text/html": [
              "<div>\n",
              "<style scoped>\n",
              "    .dataframe tbody tr th:only-of-type {\n",
              "        vertical-align: middle;\n",
              "    }\n",
              "\n",
              "    .dataframe tbody tr th {\n",
              "        vertical-align: top;\n",
              "    }\n",
              "\n",
              "    .dataframe thead th {\n",
              "        text-align: right;\n",
              "    }\n",
              "</style>\n",
              "<table border=\"1\" class=\"dataframe\">\n",
              "  <thead>\n",
              "    <tr style=\"text-align: right;\">\n",
              "      <th></th>\n",
              "      <th>count</th>\n",
              "    </tr>\n",
              "    <tr>\n",
              "      <th>y</th>\n",
              "      <th></th>\n",
              "    </tr>\n",
              "  </thead>\n",
              "  <tbody>\n",
              "    <tr>\n",
              "      <th>1</th>\n",
              "      <td>500</td>\n",
              "    </tr>\n",
              "    <tr>\n",
              "      <th>0</th>\n",
              "      <td>500</td>\n",
              "    </tr>\n",
              "  </tbody>\n",
              "</table>\n",
              "</div><br><label><b>dtype:</b> int64</label>"
            ]
          },
          "metadata": {},
          "execution_count": 4
        }
      ]
    },
    {
      "cell_type": "code",
      "source": [
        "#vizuvalize the data set\n",
        "import matplotlib.pyplot as plt\n",
        "plt.scatter(df.x1,df.x2,c=y,cmap=plt.cm.RdYlBu)"
      ],
      "metadata": {
        "colab": {
          "base_uri": "https://localhost:8080/",
          "height": 447
        },
        "id": "oweoPrSzcxi6",
        "outputId": "b461464e-ba64-412b-d7cc-72395d370999"
      },
      "execution_count": 5,
      "outputs": [
        {
          "output_type": "execute_result",
          "data": {
            "text/plain": [
              "<matplotlib.collections.PathCollection at 0x7d4431eec8d0>"
            ]
          },
          "metadata": {},
          "execution_count": 5
        },
        {
          "output_type": "display_data",
          "data": {
            "text/plain": [
              "<Figure size 640x480 with 1 Axes>"
            ],
            "image/png": "[encoded data removed]"
          },
          "metadata": {}
        }
      ]
    },
    {
      "cell_type": "markdown",
      "source": [
        "#problem explainantion\n",
        "we have binary classification problem at had we need top classify dots into red(0) and blue(1)\n",
        "* infeatures : 2\n",
        "* out features : 1"
      ],
      "metadata": {
        "id": "7ax4KuHMc6Fu"
      }
    },
    {
      "cell_type": "code",
      "source": [
        "#step 1 preparing our data for the pytorch turning or numerical to tensors\n",
        "import torch\n",
        "X = torch.tensor(X,dtype=torch.float32)\n",
        "y = torch.tensor(y,dtype=torch.float32)\n",
        "X.shape,y.shape"
      ],
      "metadata": {
        "colab": {
          "base_uri": "https://localhost:8080/"
        },
        "id": "6LjzdWwUer2d",
        "outputId": "63825ae0-a1a8-44ae-c7f7-ec598ea1d181"
      },
      "execution_count": 6,
      "outputs": [
        {
          "output_type": "execute_result",
          "data": {
            "text/plain": [
              "(torch.Size([1000, 2]), torch.Size([1000]))"
            ]
          },
          "metadata": {},
          "execution_count": 6
        }
      ]
    },
    {
      "cell_type": "code",
      "source": [
        "# step 2 now we are spliting the dataset using train_test_split from sciket learn\n",
        "from sklearn.model_selection import train_test_split\n",
        "X_train,X_test,y_train,y_test = train_test_split(X,y,test_size=0.2,shuffle=True ,random_state=42)\n",
        "X_train.shape,X_test.shape,y_train.shape,y_test.shape"
      ],
      "metadata": {
        "colab": {
          "base_uri": "https://localhost:8080/"
        },
        "id": "GZF0-j_1e9Jo",
        "outputId": "6e87d16a-f911-4200-973d-69f30bff838b"
      },
      "execution_count": 7,
      "outputs": [
        {
          "output_type": "execute_result",
          "data": {
            "text/plain": [
              "(torch.Size([800, 2]),\n",
              " torch.Size([200, 2]),\n",
              " torch.Size([800]),\n",
              " torch.Size([200]))"
            ]
          },
          "metadata": {},
          "execution_count": 7
        }
      ]
    },
    {
      "cell_type": "code",
      "source": [
        "# Standard PyTorch imports\n",
        "import torch\n",
        "from torch import nn\n",
        "\n",
        "# Make device agnostic code\n",
        "device = \"cuda\" if torch.cuda.is_available() else \"cpu\"\n",
        "device"
      ],
      "metadata": {
        "colab": {
          "base_uri": "https://localhost:8080/",
          "height": 35
        },
        "id": "MNpAmKtOfcN3",
        "outputId": "2716c429-6ac6-46dc-a5f0-d1d26d7ec473"
      },
      "execution_count": 8,
      "outputs": [
        {
          "output_type": "execute_result",
          "data": {
            "text/plain": [
              "'cuda'"
            ],
            "application/vnd.google.colaboratory.intrinsic+json": {
              "type": "string"
            }
          },
          "metadata": {},
          "execution_count": 8
        }
      ]
    },
    {
      "cell_type": "markdown",
      "source": [
        "## things that we done so far\n",
        "* we created our data set visuvalized it\n",
        "* turned our problem into the classification problem\n",
        "* split our data set into train and test(also shuffled it)\n",
        "* instantiated the gpuµ\\\n"
      ],
      "metadata": {
        "id": "H-1NvH3lfkT0"
      }
    },
    {
      "cell_type": "code",
      "source": [
        "#now creating the model class\n",
        "class CircleClass(nn.Module):\n",
        "  def __init__(self):\n",
        "    super().__init__()\n",
        "    self.layer1 = nn.Linear(2,5)#infeatures 2 and out features 5(this number neurons present in our hidden layer)\n",
        "    self.layer2 =nn.Linear(5,1)#hidden layer to out layer\n",
        "  def forward(self,x):\n",
        "    return self.layer2(self.layer1(x))\n",
        "model = CircleClass().to(device)\n",
        "model"
      ],
      "metadata": {
        "colab": {
          "base_uri": "https://localhost:8080/"
        },
        "id": "vSOTMmKdgVEm",
        "outputId": "4b2bd151-7f06-4864-cf58-d011b1e2bb68"
      },
      "execution_count": 9,
      "outputs": [
        {
          "output_type": "execute_result",
          "data": {
            "text/plain": [
              "CircleClass(\n",
              "  (layer1): Linear(in_features=2, out_features=5, bias=True)\n",
              "  (layer2): Linear(in_features=5, out_features=1, bias=True)\n",
              ")"
            ]
          },
          "metadata": {},
          "execution_count": 9
        }
      ]
    },
    {
      "cell_type": "markdown",
      "source": [
        "## what are we missing\n",
        "Activation layer."
      ],
      "metadata": {
        "id": "JdCZE-sjgeQ1"
      }
    },
    {
      "cell_type": "code",
      "source": [
        "#lets print the untrained predications\n",
        "untrained_preds = model(X_test.to(device))\n",
        "print(f\"Length of predictions: {len(untrained_preds)}, Shape: {untrained_preds.shape}\")\n",
        "print(f\"Length of test samples: {len(y_test)}, Shape: {y_test.shape}\")\n",
        "print(f\"\\nFirst 10 predictions:\\n{untrained_preds[:10]}\")\n",
        "print(f\"\\nFirst 10 test labels:\\n{y_test[:10]}\")"
      ],
      "metadata": {
        "colab": {
          "base_uri": "https://localhost:8080/"
        },
        "id": "_n6V5xgKhiJV",
        "outputId": "cbcf79b2-916e-43bb-96a9-e0b01d93a697"
      },
      "execution_count": 10,
      "outputs": [
        {
          "output_type": "stream",
          "name": "stdout",
          "text": [
            "Length of predictions: 200, Shape: torch.Size([200, 1])\n",
            "Length of test samples: 200, Shape: torch.Size([200])\n",
            "\n",
            "First 10 predictions:\n",
            "tensor([[-0.1882],\n",
            "        [-0.1385],\n",
            "        [-0.4161],\n",
            "        [-0.1232],\n",
            "        [-0.5713],\n",
            "        [-0.5398],\n",
            "        [-0.2770],\n",
            "        [-0.3713],\n",
            "        [-0.4092],\n",
            "        [-0.1369]], device='cuda:0', grad_fn=<SliceBackward0>)\n",
            "\n",
            "First 10 test labels:\n",
            "tensor([1., 0., 1., 0., 1., 1., 0., 0., 1., 0.])\n"
          ]
        }
      ]
    },
    {
      "cell_type": "markdown",
      "source": [
        "as we can see our predication are very crude now lets train our model by setting up the loss and optimizer"
      ],
      "metadata": {
        "id": "l_gn9IhyhsAA"
      }
    },
    {
      "cell_type": "code",
      "source": [
        "loss_fn = nn.BCEWithLogitsLoss()#binary cross entropy with sigmoid built in\n",
        "optimizer_fn = torch.optim.SGD(model.parameters(),lr=0.1)"
      ],
      "metadata": {
        "id": "lN-42F9TiFHY"
      },
      "execution_count": 11,
      "outputs": []
    },
    {
      "cell_type": "markdown",
      "source": [
        "## defing the evaluation metric\n",
        "* loss funtion tell us how wrong our model is and Evaluation metrics tells us how good our model is"
      ],
      "metadata": {
        "id": "NUj_L5AmibsF"
      }
    },
    {
      "cell_type": "code",
      "source": [
        "def accuracy_fn(y_true , y_pred):\n",
        "  correct = torch.eq(y_true,y_pred).sum().item()\n",
        "  acc = (correct/len(y_pred))*100\n",
        "  return acc"
      ],
      "metadata": {
        "id": "jVZUEfM4ja4R"
      },
      "execution_count": 12,
      "outputs": []
    },
    {
      "cell_type": "code",
      "source": [
        "y_logits = model(X_test.to(device))\n",
        "y_logits.shape# we got an added dimension and random numericals"
      ],
      "metadata": {
        "colab": {
          "base_uri": "https://localhost:8080/"
        },
        "id": "jf_KSOiKjgIm",
        "outputId": "83157f4c-3000-4608-d8b6-b15627bc32f2"
      },
      "execution_count": 13,
      "outputs": [
        {
          "output_type": "execute_result",
          "data": {
            "text/plain": [
              "torch.Size([200, 1])"
            ]
          },
          "metadata": {},
          "execution_count": 13
        }
      ]
    },
    {
      "cell_type": "markdown",
      "source": [
        "Since our model hasn't been trained, these outputs are basically random.\n",
        "\n",
        "But *what* are they?\n",
        "\n",
        "They're the output of our `forward()` method.\n",
        "\n",
        "Which implements two layers of `nn.Linear()` which internally calls the following equation:\n",
        "\n",
        "$$\n",
        "\\mathbf{y} = x \\cdot \\mathbf{Weights}^T  + \\mathbf{bias}\n",
        "$$\n",
        "\n",
        "The *raw outputs* (unmodified) of this equation ($y$) and in turn, the raw outputs of our model are often referred to as [**logits**](https://datascience.stackexchange.com/a/31045).\n",
        "\n",
        "That's what our model is outputing above when it takes in the input data ($x$ in the equation or `X_test` in the code), logits.\n",
        "\n",
        "However, these numbers are hard to interpret.\n",
        "\n",
        "We'd like some numbers that are comparable to our truth labels.\n",
        "\n",
        "To get our model's raw outputs (logits) into such a form, we can use the [sigmoid activation function](https://pytorch.org/docs/stable/generated/torch.sigmoid.html).\n",
        "\n",
        "Let's try it out.\n"
      ],
      "metadata": {
        "id": "9ZIZ4BOwlMBx"
      }
    },
    {
      "cell_type": "code",
      "source": [
        "# using the sigmoid activation for the logits to make sense\n",
        "y_pred_probs = torch.sigmoid(y_logits)\n",
        "y_pred_probs"
      ],
      "metadata": {
        "colab": {
          "base_uri": "https://localhost:8080/"
        },
        "id": "agF8mH2Dlax2",
        "outputId": "88b5a99a-81f4-43fc-aea5-abe41d02fdb6"
      },
      "execution_count": 14,
      "outputs": [
        {
          "output_type": "execute_result",
          "data": {
            "text/plain": [
              "tensor([[0.4531],\n",
              "        [0.4654],\n",
              "        [0.3975],\n",
              "        [0.4692],\n",
              "        [0.3609],\n",
              "        [0.3682],\n",
              "        [0.4312],\n",
              "        [0.4082],\n",
              "        [0.3991],\n",
              "        [0.4658],\n",
              "        [0.4605],\n",
              "        [0.4538],\n",
              "        [0.4190],\n",
              "        [0.3811],\n",
              "        [0.4038],\n",
              "        [0.3954],\n",
              "        [0.4445],\n",
              "        [0.4585],\n",
              "        [0.4466],\n",
              "        [0.4452],\n",
              "        [0.4671],\n",
              "        [0.3843],\n",
              "        [0.4411],\n",
              "        [0.4545],\n",
              "        [0.4454],\n",
              "        [0.4197],\n",
              "        [0.3553],\n",
              "        [0.3686],\n",
              "        [0.4050],\n",
              "        [0.3762],\n",
              "        [0.4297],\n",
              "        [0.4497],\n",
              "        [0.4638],\n",
              "        [0.3608],\n",
              "        [0.4648],\n",
              "        [0.4536],\n",
              "        [0.4606],\n",
              "        [0.3855],\n",
              "        [0.3622],\n",
              "        [0.3782],\n",
              "        [0.4399],\n",
              "        [0.4091],\n",
              "        [0.4425],\n",
              "        [0.3527],\n",
              "        [0.4673],\n",
              "        [0.4531],\n",
              "        [0.3580],\n",
              "        [0.4698],\n",
              "        [0.4515],\n",
              "        [0.3653],\n",
              "        [0.4681],\n",
              "        [0.4692],\n",
              "        [0.3758],\n",
              "        [0.3513],\n",
              "        [0.4164],\n",
              "        [0.3595],\n",
              "        [0.4096],\n",
              "        [0.3835],\n",
              "        [0.4267],\n",
              "        [0.4276],\n",
              "        [0.3661],\n",
              "        [0.4156],\n",
              "        [0.4280],\n",
              "        [0.3764],\n",
              "        [0.4547],\n",
              "        [0.4566],\n",
              "        [0.3932],\n",
              "        [0.3938],\n",
              "        [0.4628],\n",
              "        [0.3888],\n",
              "        [0.3770],\n",
              "        [0.4631],\n",
              "        [0.4214],\n",
              "        [0.4074],\n",
              "        [0.4006],\n",
              "        [0.3762],\n",
              "        [0.3655],\n",
              "        [0.4379],\n",
              "        [0.4630],\n",
              "        [0.4423],\n",
              "        [0.4462],\n",
              "        [0.4522],\n",
              "        [0.4097],\n",
              "        [0.3633],\n",
              "        [0.4310],\n",
              "        [0.4487],\n",
              "        [0.3568],\n",
              "        [0.3688],\n",
              "        [0.3513],\n",
              "        [0.3855],\n",
              "        [0.3931],\n",
              "        [0.3630],\n",
              "        [0.3684],\n",
              "        [0.3617],\n",
              "        [0.3818],\n",
              "        [0.4616],\n",
              "        [0.4506],\n",
              "        [0.4159],\n",
              "        [0.4480],\n",
              "        [0.3607],\n",
              "        [0.4696],\n",
              "        [0.3995],\n",
              "        [0.4493],\n",
              "        [0.4104],\n",
              "        [0.4365],\n",
              "        [0.3525],\n",
              "        [0.3644],\n",
              "        [0.4391],\n",
              "        [0.3763],\n",
              "        [0.3894],\n",
              "        [0.4539],\n",
              "        [0.4490],\n",
              "        [0.4576],\n",
              "        [0.3689],\n",
              "        [0.3986],\n",
              "        [0.3574],\n",
              "        [0.3706],\n",
              "        [0.3786],\n",
              "        [0.3670],\n",
              "        [0.3525],\n",
              "        [0.4342],\n",
              "        [0.3539],\n",
              "        [0.3741],\n",
              "        [0.4292],\n",
              "        [0.3783],\n",
              "        [0.3571],\n",
              "        [0.3942],\n",
              "        [0.4426],\n",
              "        [0.4654],\n",
              "        [0.4313],\n",
              "        [0.4231],\n",
              "        [0.4294],\n",
              "        [0.3624],\n",
              "        [0.4619],\n",
              "        [0.4591],\n",
              "        [0.4195],\n",
              "        [0.3608],\n",
              "        [0.3626],\n",
              "        [0.4304],\n",
              "        [0.4454],\n",
              "        [0.3834],\n",
              "        [0.4509],\n",
              "        [0.4529],\n",
              "        [0.3929],\n",
              "        [0.3860],\n",
              "        [0.3529],\n",
              "        [0.4217],\n",
              "        [0.3828],\n",
              "        [0.4428],\n",
              "        [0.4681],\n",
              "        [0.3800],\n",
              "        [0.4410],\n",
              "        [0.4086],\n",
              "        [0.4049],\n",
              "        [0.3934],\n",
              "        [0.4475],\n",
              "        [0.4384],\n",
              "        [0.3855],\n",
              "        [0.3827],\n",
              "        [0.4099],\n",
              "        [0.4672],\n",
              "        [0.3923],\n",
              "        [0.3691],\n",
              "        [0.4536],\n",
              "        [0.4489],\n",
              "        [0.3568],\n",
              "        [0.4023],\n",
              "        [0.3821],\n",
              "        [0.3657],\n",
              "        [0.4499],\n",
              "        [0.4457],\n",
              "        [0.4509],\n",
              "        [0.4168],\n",
              "        [0.3773],\n",
              "        [0.4293],\n",
              "        [0.3662],\n",
              "        [0.3513],\n",
              "        [0.4008],\n",
              "        [0.4442],\n",
              "        [0.3487],\n",
              "        [0.3565],\n",
              "        [0.4150],\n",
              "        [0.4514],\n",
              "        [0.3728],\n",
              "        [0.4322],\n",
              "        [0.4421],\n",
              "        [0.4702],\n",
              "        [0.4168],\n",
              "        [0.4555],\n",
              "        [0.3631],\n",
              "        [0.4234],\n",
              "        [0.3922],\n",
              "        [0.4458],\n",
              "        [0.4505],\n",
              "        [0.3738],\n",
              "        [0.4350],\n",
              "        [0.4314],\n",
              "        [0.3934],\n",
              "        [0.4407],\n",
              "        [0.4509]], device='cuda:0', grad_fn=<SigmoidBackward0>)"
            ]
          },
          "metadata": {},
          "execution_count": 14
        }
      ]
    },
    {
      "cell_type": "markdown",
      "source": [
        "if the probeblity if >0.5 then its belongs to class 1\n",
        "\n",
        "else then it belongs to the class 0"
      ],
      "metadata": {
        "id": "0JfMmf-blkLT"
      }
    },
    {
      "cell_type": "code",
      "source": [
        "# Find the predicted labels (round the prediction probabilities)\n",
        "y_preds = torch.round(y_pred_probs)\n",
        "\n",
        "# In full\n",
        "y_pred_labels = torch.round(torch.sigmoid(model(X_test.to(device))))\n",
        "\n",
        "# Check for equality\n",
        "print(torch.eq(y_preds.squeeze(), y_pred_labels.squeeze()))\n",
        "\n",
        "# Get rid of extra dimension\n",
        "y_preds.squeeze()"
      ],
      "metadata": {
        "colab": {
          "base_uri": "https://localhost:8080/"
        },
        "id": "gnwQZxAIlwbv",
        "outputId": "1a926a07-8c24-424d-e25b-f8d9d84dee3d"
      },
      "execution_count": 15,
      "outputs": [
        {
          "output_type": "stream",
          "name": "stdout",
          "text": [
            "tensor([True, True, True, True, True, True, True, True, True, True, True, True,\n",
            "        True, True, True, True, True, True, True, True, True, True, True, True,\n",
            "        True, True, True, True, True, True, True, True, True, True, True, True,\n",
            "        True, True, True, True, True, True, True, True, True, True, True, True,\n",
            "        True, True, True, True, True, True, True, True, True, True, True, True,\n",
            "        True, True, True, True, True, True, True, True, True, True, True, True,\n",
            "        True, True, True, True, True, True, True, True, True, True, True, True,\n",
            "        True, True, True, True, True, True, True, True, True, True, True, True,\n",
            "        True, True, True, True, True, True, True, True, True, True, True, True,\n",
            "        True, True, True, True, True, True, True, True, True, True, True, True,\n",
            "        True, True, True, True, True, True, True, True, True, True, True, True,\n",
            "        True, True, True, True, True, True, True, True, True, True, True, True,\n",
            "        True, True, True, True, True, True, True, True, True, True, True, True,\n",
            "        True, True, True, True, True, True, True, True, True, True, True, True,\n",
            "        True, True, True, True, True, True, True, True, True, True, True, True,\n",
            "        True, True, True, True, True, True, True, True, True, True, True, True,\n",
            "        True, True, True, True, True, True, True, True], device='cuda:0')\n"
          ]
        },
        {
          "output_type": "execute_result",
          "data": {
            "text/plain": [
              "tensor([0., 0., 0., 0., 0., 0., 0., 0., 0., 0., 0., 0., 0., 0., 0., 0., 0., 0., 0., 0., 0., 0., 0., 0.,\n",
              "        0., 0., 0., 0., 0., 0., 0., 0., 0., 0., 0., 0., 0., 0., 0., 0., 0., 0., 0., 0., 0., 0., 0., 0.,\n",
              "        0., 0., 0., 0., 0., 0., 0., 0., 0., 0., 0., 0., 0., 0., 0., 0., 0., 0., 0., 0., 0., 0., 0., 0.,\n",
              "        0., 0., 0., 0., 0., 0., 0., 0., 0., 0., 0., 0., 0., 0., 0., 0., 0., 0., 0., 0., 0., 0., 0., 0.,\n",
              "        0., 0., 0., 0., 0., 0., 0., 0., 0., 0., 0., 0., 0., 0., 0., 0., 0., 0., 0., 0., 0., 0., 0., 0.,\n",
              "        0., 0., 0., 0., 0., 0., 0., 0., 0., 0., 0., 0., 0., 0., 0., 0., 0., 0., 0., 0., 0., 0., 0., 0.,\n",
              "        0., 0., 0., 0., 0., 0., 0., 0., 0., 0., 0., 0., 0., 0., 0., 0., 0., 0., 0., 0., 0., 0., 0., 0.,\n",
              "        0., 0., 0., 0., 0., 0., 0., 0., 0., 0., 0., 0., 0., 0., 0., 0., 0., 0., 0., 0., 0., 0., 0., 0.,\n",
              "        0., 0., 0., 0., 0., 0., 0., 0.], device='cuda:0',\n",
              "       grad_fn=<SqueezeBackward0>)"
            ]
          },
          "metadata": {},
          "execution_count": 15
        }
      ]
    },
    {
      "cell_type": "code",
      "source": [
        "## now building the training loop for our model\n",
        "# start with the manual seed\n",
        "torch.manual_seed(42)\n",
        "epochs = 100\n",
        "X_train,y_train = X_train.to(device),y_train.to(device)\n",
        "X_test,y_test = X_test.to(device),y_test.to(device)\n",
        "\n",
        "for epoch in range(epochs):\n",
        "  model.train()\n",
        "  y_logits = model(X_train).squeeze()#getting the logits and removin the extra dimension\n",
        "  y_pred = torch.round(torch.sigmoid(y_logits))#turnig the logits into prob\n",
        "  loss = loss_fn(y_logits,y_train)#getting the loss of our loggics\n",
        "  acc = accuracy_fn(y_true = y_train,y_pred = y_pred)\n",
        "  optimizer_fn.zero_grad()\n",
        "  loss.backward()\n",
        "  optimizer_fn.step()\n",
        "  model.eval()\n",
        "  with torch.inference_mode():\n",
        "    test_logits = model(X_test).squeeze()\n",
        "    test_pred = torch.round(torch.sigmoid(test_logits))\n",
        "    test_loss = loss_fn(test_logits,y_test)\n",
        "    test_acc = accuracy_fn(y_true = y_test,y_pred = test_pred)\n",
        "    if epoch % 10 == 0:\n",
        "      print(f\"Epoch: {epoch} | Loss: {loss:.5f} | Acc: {acc:.2f}% | Test Loss: {test_loss:.5f} | Test Acc: {test_acc:.2f}%\")\n"
      ],
      "metadata": {
        "colab": {
          "base_uri": "https://localhost:8080/"
        },
        "id": "TSsFtJdll-XU",
        "outputId": "b9c40800-5d81-4fba-cc2a-2c9c328cc43e"
      },
      "execution_count": 16,
      "outputs": [
        {
          "output_type": "stream",
          "name": "stdout",
          "text": [
            "Epoch: 0 | Loss: 0.71255 | Acc: 50.00% | Test Loss: 0.71433 | Test Acc: 50.00%\n",
            "Epoch: 10 | Loss: 0.69918 | Acc: 43.88% | Test Loss: 0.70229 | Test Acc: 41.00%\n",
            "Epoch: 20 | Loss: 0.69537 | Acc: 47.88% | Test Loss: 0.69867 | Test Acc: 48.00%\n",
            "Epoch: 30 | Loss: 0.69425 | Acc: 49.50% | Test Loss: 0.69748 | Test Acc: 48.50%\n",
            "Epoch: 40 | Loss: 0.69388 | Acc: 49.75% | Test Loss: 0.69700 | Test Acc: 49.50%\n",
            "Epoch: 50 | Loss: 0.69372 | Acc: 50.12% | Test Loss: 0.69674 | Test Acc: 49.00%\n",
            "Epoch: 60 | Loss: 0.69361 | Acc: 50.38% | Test Loss: 0.69655 | Test Acc: 48.00%\n",
            "Epoch: 70 | Loss: 0.69354 | Acc: 50.88% | Test Loss: 0.69640 | Test Acc: 47.00%\n",
            "Epoch: 80 | Loss: 0.69347 | Acc: 50.50% | Test Loss: 0.69627 | Test Acc: 47.50%\n",
            "Epoch: 90 | Loss: 0.69342 | Acc: 50.62% | Test Loss: 0.69616 | Test Acc: 47.50%\n"
          ]
        }
      ]
    },
    {
      "cell_type": "markdown",
      "source": [
        "Hmm, what do you notice about the performance of our model?\n",
        "\n",
        "It looks like it went through the training and testing steps fine but the results don't seem to have moved too much.\n",
        "\n",
        "The accuracy barely moves above 50% on each data split.\n",
        "\n",
        "And because we're working with a balanced binary classification problem, it means our model is performing as good as random guessing (with 500 samples of class 0 and class 1 a model predicting class 1 every single time would achieve 50% accuracy)."
      ],
      "metadata": {
        "id": "aKhbHoi6nKZg"
      }
    },
    {
      "cell_type": "markdown",
      "source": [
        "from random import randbytes\n",
        "## How to improve the model performance\n",
        "* Add more Layers\n",
        "* Add more hidden neurons\n",
        "* play with more epochs\n",
        "* try changing the learning rate\n",
        "* try changing the loss function and optim function\n",
        "* **ADD ACtivation function or chnage it** in the above model ve did not added any activation function so what happened our model is performing linearly\n",
        "\n",
        "to inturduce the non leanirity we need activation(RELU most popular)."
      ],
      "metadata": {
        "id": "Q8u0U2D4o5FH"
      }
    },
    {
      "cell_type": "code",
      "source": [
        "## build ing the new model again\n",
        "class CircleClass_with_Activation(nn.Module):\n",
        "  def __init__(self):\n",
        "    super().__init__()\n",
        "    self.layer1 = nn.Linear(2,20)\n",
        "    self.layer2 = nn.Linear(20,20)\n",
        "    self.layer3 = nn.Linear(20,1)\n",
        "    self.relu = nn.ReLU() # <- rectified linear unit for our non linearity\n",
        "  def forward(self,x):\n",
        "    return self.layer3(self.relu(self.layer2(self.relu(self.layer1(x)))))\n",
        "model = CircleClass_with_Activation()\n",
        "model"
      ],
      "metadata": {
        "colab": {
          "base_uri": "https://localhost:8080/"
        },
        "id": "6xiAcBbAp-jB",
        "outputId": "dc20cb78-bd1c-42a6-fed9-88636ac80e89"
      },
      "execution_count": 17,
      "outputs": [
        {
          "output_type": "execute_result",
          "data": {
            "text/plain": [
              "CircleClass_with_Activation(\n",
              "  (layer1): Linear(in_features=2, out_features=20, bias=True)\n",
              "  (layer2): Linear(in_features=20, out_features=20, bias=True)\n",
              "  (layer3): Linear(in_features=20, out_features=1, bias=True)\n",
              "  (relu): ReLU()\n",
              ")"
            ]
          },
          "metadata": {},
          "execution_count": 17
        }
      ]
    },
    {
      "cell_type": "code",
      "source": [
        "loss_fn = nn.BCEWithLogitsLoss()\n",
        "optimizer = torch.optim.SGD(model.parameters(), lr=0.1)"
      ],
      "metadata": {
        "id": "5HGPcrtPqx7l"
      },
      "execution_count": 18,
      "outputs": []
    },
    {
      "cell_type": "code",
      "source": [
        "# 1. Set device\n",
        "device = torch.device(\"cuda\" if torch.cuda.is_available() else \"cpu\")\n",
        "\n",
        "# 2. Move model to device\n",
        "model = model.to(device)\n",
        "\n",
        "# 3. Move data to device\n",
        "X_train = X_train.to(device)\n",
        "y_train = y_train.to(device)\n",
        "X_test = X_test.to(device)\n",
        "y_test = y_test.to(device)\n"
      ],
      "metadata": {
        "id": "ybbsckVFsA9t"
      },
      "execution_count": 19,
      "outputs": []
    },
    {
      "cell_type": "code",
      "source": [
        "#model training with not linearity\n",
        "torch.manual_seed(42)\n",
        "epochs = 1000\n",
        "X_train,y_train = X_train.to(device),y_train.to(device)\n",
        "X_test,y_test = X_test.to(device),y_test.to(device)\n",
        "for epoch in range(epochs):\n",
        "  model.train()\n",
        "  y_logits = model(X_train).squeeze()\n",
        "  y_pred = torch.round(torch.sigmoid(y_logits))\n",
        "  loss = loss_fn(y_logits,y_train)\n",
        "  acc = accuracy_fn(y_pred=y_pred,y_true=y_train)\n",
        "  optimizer_fn.zero_grad()\n",
        "  loss.backward()\n",
        "  optimizer_fn.step()\n",
        "  model.eval()\n",
        "  with torch.inference_mode():\n",
        "    test_logits = model(X_test).squeeze()\n",
        "    test_pred = torch.round(torch.sigmoid(test_logits))\n",
        "    test_loss = loss_fn(test_logits,y_test)\n",
        "    test_acc = accuracy_fn(y_true = y_test,y_pred = test_pred)\n",
        "    if epoch%100 == 0:\n",
        "      print(f\"Epoch: {epoch} | Loss: {loss:.5f} | Acc: {acc:.2f}% | Test Loss: {test_loss:.5f} | Test Acc: {test_acc:.2f}%\")\n"
      ],
      "metadata": {
        "colab": {
          "base_uri": "https://localhost:8080/"
        },
        "id": "PSfEmXHcq5H6",
        "outputId": "c3e45056-273f-4353-f178-446c890de298"
      },
      "execution_count": 20,
      "outputs": [
        {
          "output_type": "stream",
          "name": "stdout",
          "text": [
            "Epoch: 0 | Loss: 0.69448 | Acc: 47.62% | Test Loss: 0.69200 | Test Acc: 54.00%\n",
            "Epoch: 100 | Loss: 0.69448 | Acc: 47.62% | Test Loss: 0.69200 | Test Acc: 54.00%\n",
            "Epoch: 200 | Loss: 0.69448 | Acc: 47.62% | Test Loss: 0.69200 | Test Acc: 54.00%\n",
            "Epoch: 300 | Loss: 0.69448 | Acc: 47.62% | Test Loss: 0.69200 | Test Acc: 54.00%\n",
            "Epoch: 400 | Loss: 0.69448 | Acc: 47.62% | Test Loss: 0.69200 | Test Acc: 54.00%\n",
            "Epoch: 500 | Loss: 0.69448 | Acc: 47.62% | Test Loss: 0.69200 | Test Acc: 54.00%\n",
            "Epoch: 600 | Loss: 0.69448 | Acc: 47.62% | Test Loss: 0.69200 | Test Acc: 54.00%\n",
            "Epoch: 700 | Loss: 0.69448 | Acc: 47.62% | Test Loss: 0.69200 | Test Acc: 54.00%\n",
            "Epoch: 800 | Loss: 0.69448 | Acc: 47.62% | Test Loss: 0.69200 | Test Acc: 54.00%\n",
            "Epoch: 900 | Loss: 0.69448 | Acc: 47.62% | Test Loss: 0.69200 | Test Acc: 54.00%\n"
          ]
        }
      ]
    },
    {
      "cell_type": "markdown",
      "source": [
        "non linearity imporved the model but not too much  "
      ],
      "metadata": {
        "id": "qgoj3pIErfSj"
      }
    },
    {
      "cell_type": "code",
      "source": [
        "## lets do one multiclassification model\n",
        "# Import dependencies\n",
        "import torch\n",
        "import matplotlib.pyplot as plt\n",
        "from sklearn.datasets import make_blobs\n",
        "from sklearn.model_selection import train_test_split\n",
        "\n",
        "# Set the hyperparameters for data creation\n",
        "NUM_CLASSES = 4\n",
        "NUM_FEATURES = 2\n",
        "RANDOM_SEED = 42\n",
        "\n",
        "# 1. Create multi-class data\n",
        "X_blob, y_blob = make_blobs(n_samples=1000,\n",
        "    n_features=NUM_FEATURES, # X features\n",
        "    centers=NUM_CLASSES, # y labels\n",
        "    cluster_std=1.5, # give the clusters a little shake up (try changing this to 1.0, the default)\n",
        "    random_state=RANDOM_SEED\n",
        ")\n",
        "\n",
        "# 2. Turn data into tensors\n",
        "X_blob = torch.from_numpy(X_blob).type(torch.float)\n",
        "y_blob = torch.from_numpy(y_blob).type(torch.LongTensor)\n",
        "print(X_blob[:5], y_blob[:5])\n",
        "\n",
        "# 3. Split into train and test sets\n",
        "X_blob_train, X_blob_test, y_blob_train, y_blob_test = train_test_split(X_blob,\n",
        "    y_blob,\n",
        "    test_size=0.2,\n",
        "    random_state=RANDOM_SEED\n",
        ")\n",
        "\n",
        "# 4. Plot data\n",
        "plt.figure(figsize=(10, 7))\n",
        "plt.scatter(X_blob[:, 0], X_blob[:, 1], c=y_blob, cmap=plt.cm.RdYlBu);"
      ],
      "metadata": {
        "colab": {
          "base_uri": "https://localhost:8080/",
          "height": 686
        },
        "id": "LH73SAfRud7o",
        "outputId": "e0168365-5bb4-4f65-e230-490bcbcee9f1"
      },
      "execution_count": 21,
      "outputs": [
        {
          "output_type": "stream",
          "name": "stdout",
          "text": [
            "tensor([[-8.4134,  6.9352],\n",
            "        [-5.7665, -6.4312],\n",
            "        [-6.0421, -6.7661],\n",
            "        [ 3.9508,  0.6984],\n",
            "        [ 4.2505, -0.2815]]) tensor([3, 2, 2, 1, 1])\n"
          ]
        },
        {
          "output_type": "display_data",
          "data": {
            "text/plain": [
              "<Figure size 1000x700 with 1 Axes>"
            ],
            "image/png": "[encoded data removed]"
          },
          "metadata": {}
        }
      ]
    },
    {
      "cell_type": "code",
      "source": [
        "# Create device agnostic code\n",
        "device = \"cuda\" if torch.cuda.is_available() else \"cpu\"\n",
        "device"
      ],
      "metadata": {
        "colab": {
          "base_uri": "https://localhost:8080/",
          "height": 35
        },
        "id": "m_NDTFHYumvC",
        "outputId": "2aa3a123-1d92-4f9c-f694-b2c1a22d0b70"
      },
      "execution_count": 22,
      "outputs": [
        {
          "output_type": "execute_result",
          "data": {
            "text/plain": [
              "'cuda'"
            ],
            "application/vnd.google.colaboratory.intrinsic+json": {
              "type": "string"
            }
          },
          "metadata": {},
          "execution_count": 22
        }
      ]
    },
    {
      "cell_type": "code",
      "source": [
        "from torch import nn\n",
        "class multiClass(nn.Module):\n",
        "  def __init__(self):\n",
        "    super().__init__()\n",
        "    self.layer1 = nn.Linear(2,8)\n",
        "    self.layer2 = nn.Linear(8,8)\n",
        "    self.layer3 = nn.Linear(8,4)\n",
        "    self.relu = nn.ReLU()\n",
        "  def forward(self,x):\n",
        "    return self.layer3(self.relu(self.layer2(self.relu(self.layer1(x)))))\n",
        "model_mul = multiClass()\n",
        "model_mul"
      ],
      "metadata": {
        "colab": {
          "base_uri": "https://localhost:8080/"
        },
        "id": "mzpDbhItupyf",
        "outputId": "ed48c355-40c6-44da-c20d-24af3d711473"
      },
      "execution_count": 23,
      "outputs": [
        {
          "output_type": "execute_result",
          "data": {
            "text/plain": [
              "multiClass(\n",
              "  (layer1): Linear(in_features=2, out_features=8, bias=True)\n",
              "  (layer2): Linear(in_features=8, out_features=8, bias=True)\n",
              "  (layer3): Linear(in_features=8, out_features=4, bias=True)\n",
              "  (relu): ReLU()\n",
              ")"
            ]
          },
          "metadata": {},
          "execution_count": 23
        }
      ]
    },
    {
      "cell_type": "code",
      "source": [
        "loss_fn = nn.CrossEntropyLoss()\n",
        "optimizer = torch.optim.SGD(model_mul.parameters(),lr=0.1)"
      ],
      "metadata": {
        "id": "s646wh_Juygh"
      },
      "execution_count": 24,
      "outputs": []
    },
    {
      "cell_type": "code",
      "source": [
        "# Create device agnostic code\n",
        "device = \"cuda\" if torch.cuda.is_available() else \"cpu\"\n",
        "device\n",
        "model_mul(X_blob_train)[:5]"
      ],
      "metadata": {
        "colab": {
          "base_uri": "https://localhost:8080/"
        },
        "id": "7FVI4gfAvkNU",
        "outputId": "a4ff993d-4f90-4762-aab3-4b26bd0c4b42"
      },
      "execution_count": 27,
      "outputs": [
        {
          "output_type": "execute_result",
          "data": {
            "text/plain": [
              "tensor([[-0.7586, -0.6810, -1.5180, -1.1178],\n",
              "        [-0.2398, -1.2335, -0.9858, -0.2899],\n",
              "        [ 0.2528, -0.2379,  0.1882, -0.0066],\n",
              "        [ 0.2391, -0.2472,  0.1494,  0.0213],\n",
              "        [-0.1214, -0.9804, -0.6918, -0.1923]], grad_fn=<SliceBackward0>)"
            ]
          },
          "metadata": {},
          "execution_count": 27
        }
      ]
    },
    {
      "cell_type": "code",
      "source": [
        "# Make prediction logits with model\n",
        "y_logits = model_mul(X_blob_test)\n",
        "\n",
        "# Perform softmax calculation on logits across dimension 1 to get prediction probabilities\n",
        "y_pred_probs = torch.softmax(y_logits, dim=1)\n",
        "print(y_logits[:5])\n",
        "print(y_pred_probs[:5])"
      ],
      "metadata": {
        "colab": {
          "base_uri": "https://localhost:8080/"
        },
        "id": "kE5xMqIjvnQD",
        "outputId": "d94f6c1a-b937-4d73-aa6f-bc46e78660ce"
      },
      "execution_count": 29,
      "outputs": [
        {
          "output_type": "stream",
          "name": "stdout",
          "text": [
            "tensor([[-0.7646, -0.7412, -1.5777, -1.1376],\n",
            "        [-0.0973, -0.9431, -0.5963, -0.1371],\n",
            "        [ 0.2528, -0.2379,  0.1882, -0.0066],\n",
            "        [-0.4134, -0.5204, -0.9303, -0.6963],\n",
            "        [-0.3118, -1.3736, -1.1991, -0.3834]], grad_fn=<SliceBackward0>)\n",
            "tensor([[0.3169, 0.3244, 0.1405, 0.2182],\n",
            "        [0.3336, 0.1432, 0.2026, 0.3206],\n",
            "        [0.3011, 0.1843, 0.2823, 0.2323],\n",
            "        [0.3078, 0.2766, 0.1836, 0.2320],\n",
            "        [0.3719, 0.1286, 0.1532, 0.3463]], grad_fn=<SliceBackward0>)\n"
          ]
        }
      ]
    },
    {
      "cell_type": "code",
      "source": [
        "torch.sum(y_pred_probs[0])"
      ],
      "metadata": {
        "colab": {
          "base_uri": "https://localhost:8080/"
        },
        "id": "ZhKdlstQwTh7",
        "outputId": "634082b1-cc6d-45e3-bcc4-517795fa5003"
      },
      "execution_count": 30,
      "outputs": [
        {
          "output_type": "execute_result",
          "data": {
            "text/plain": [
              "tensor(1.0000, grad_fn=<SumBackward0>)"
            ]
          },
          "metadata": {},
          "execution_count": 30
        }
      ]
    },
    {
      "cell_type": "code",
      "source": [
        "print(y_pred_probs[0])\n",
        "print(torch.argmax(y_pred_probs[0]))"
      ],
      "metadata": {
        "colab": {
          "base_uri": "https://localhost:8080/"
        },
        "id": "rnO84AoHwZUQ",
        "outputId": "33773715-ab13-4865-af4d-cd161c4dd56d"
      },
      "execution_count": 31,
      "outputs": [
        {
          "output_type": "stream",
          "name": "stdout",
          "text": [
            "tensor([0.3169, 0.3244, 0.1405, 0.2182], grad_fn=<SelectBackward0>)\n",
            "tensor(1)\n"
          ]
        }
      ]
    },
    {
      "cell_type": "code",
      "source": [
        "device = torch.device(\"cuda\" if torch.cuda.is_available() else \"cpu\")\n",
        "model_mul = model_mul.to(device)\n",
        "\n",
        "X_blob_train = X_blob_train.to(device)\n",
        "y_blob_train = y_blob_train.to(device)\n",
        "X_blob_test = X_blob_test.to(device)\n",
        "y_blob_test = y_blob_test.to(device)\n"
      ],
      "metadata": {
        "id": "uAf9nDr-xDyk"
      },
      "execution_count": 36,
      "outputs": []
    },
    {
      "cell_type": "code",
      "source": [
        "# Fit the model\n",
        "torch.manual_seed(42)\n",
        "\n",
        "# Set number of epochs\n",
        "epochs = 100\n",
        "\n",
        "# Put data to target device\n",
        "\n",
        "\n",
        "for epoch in range(epochs):\n",
        "    ### Training\n",
        "    model_mul.train()\n",
        "\n",
        "    # 1. Forward pass\n",
        "    y_logits = model_mul(X_blob_train) # model outputs raw logits\n",
        "    y_pred = torch.softmax(y_logits, dim=1).argmax(dim=1) # go from logits -> prediction probabilities -> prediction labels\n",
        "    # print(y_logits)\n",
        "    # 2. Calculate loss and accuracy\n",
        "    loss = loss_fn(y_logits, y_blob_train)\n",
        "    acc = accuracy_fn(y_true=y_blob_train,\n",
        "                      y_pred=y_pred)\n",
        "\n",
        "    # 3. Optimizer zero grad\n",
        "    optimizer.zero_grad()\n",
        "\n",
        "    # 4. Loss backwards\n",
        "    loss.backward()\n",
        "\n",
        "    # 5. Optimizer step\n",
        "    optimizer.step()\n",
        "\n",
        "    ### Testing\n",
        "    model_mul.eval()\n",
        "    with torch.inference_mode():\n",
        "      # 1. Forward pass\n",
        "      test_logits = model_mul(X_blob_test)\n",
        "      test_pred = torch.softmax(test_logits, dim=1).argmax(dim=1)\n",
        "      # 2. Calculate test loss and accuracy\n",
        "      test_loss = loss_fn(test_logits, y_blob_test)\n",
        "      test_acc = accuracy_fn(y_true=y_blob_test,\n",
        "                             y_pred=test_pred)\n",
        "\n",
        "    # Print out what's happening\n",
        "    if epoch % 10 == 0:\n",
        "        print(f\"Epoch: {epoch} | Loss: {loss:.5f}, Acc: {acc:.2f}% | Test Loss: {test_loss:.5f}, Test Acc: {test_acc:.2f}%\")"
      ],
      "metadata": {
        "colab": {
          "base_uri": "https://localhost:8080/"
        },
        "id": "kCXmSlRvwcLS",
        "outputId": "60077d28-28b3-45ae-a1ee-51c9f6d4ad0d"
      },
      "execution_count": 37,
      "outputs": [
        {
          "output_type": "stream",
          "name": "stdout",
          "text": [
            "Epoch: 0 | Loss: 1.15883, Acc: 40.38% | Test Loss: 1.07554, Test Acc: 48.00%\n",
            "Epoch: 10 | Loss: 0.64476, Acc: 96.75% | Test Loss: 0.66069, Test Acc: 97.50%\n",
            "Epoch: 20 | Loss: 0.42535, Acc: 98.50% | Test Loss: 0.43074, Test Acc: 100.00%\n",
            "Epoch: 30 | Loss: 0.25294, Acc: 99.12% | Test Loss: 0.24508, Test Acc: 99.50%\n",
            "Epoch: 40 | Loss: 0.11232, Acc: 99.25% | Test Loss: 0.10229, Test Acc: 99.50%\n",
            "Epoch: 50 | Loss: 0.06627, Acc: 99.25% | Test Loss: 0.05848, Test Acc: 99.50%\n",
            "Epoch: 60 | Loss: 0.05068, Acc: 99.25% | Test Loss: 0.04293, Test Acc: 99.50%\n",
            "Epoch: 70 | Loss: 0.04300, Acc: 99.25% | Test Loss: 0.03491, Test Acc: 99.50%\n",
            "Epoch: 80 | Loss: 0.03836, Acc: 99.25% | Test Loss: 0.02988, Test Acc: 99.50%\n",
            "Epoch: 90 | Loss: 0.03525, Acc: 99.25% | Test Loss: 0.02663, Test Acc: 99.50%\n"
          ]
        }
      ]
    },
    {
      "cell_type": "code",
      "source": [
        "# Make predictions\n",
        "model_mul.eval()\n",
        "with torch.inference_mode():\n",
        "    y_logits = model_mul(X_blob_test)\n",
        "\n",
        "# View the first 10 predictions\n",
        "y_logits[:10]"
      ],
      "metadata": {
        "colab": {
          "base_uri": "https://localhost:8080/"
        },
        "id": "5KHLh5NbwsN3",
        "outputId": "9f92e4dd-4204-4a31-c14c-a02534644938"
      },
      "execution_count": 39,
      "outputs": [
        {
          "output_type": "execute_result",
          "data": {
            "text/plain": [
              "tensor([[-0.6249,  5.9860, -7.6323, -8.4470],\n",
              "        [-2.1738, -6.3750, -3.7202,  3.1203],\n",
              "        [-3.4102, -3.8958,  3.1567, -2.6119],\n",
              "        [-1.1505,  4.1962, -3.8472, -4.8820],\n",
              "        [ 3.7548, -1.3391, -9.1422, -6.9466],\n",
              "        [-2.8211, -7.5767, -4.2944,  3.7944],\n",
              "        [-3.0306, -3.3328,  2.7955, -2.1374],\n",
              "        [ 3.3761, -4.0375, -6.8987, -3.5503],\n",
              "        [-4.3620, -4.9904,  3.8123, -3.3814],\n",
              "        [ 3.5012, -3.0281, -7.5401, -4.7064]], device='cuda:0')"
            ]
          },
          "metadata": {},
          "execution_count": 39
        }
      ]
    },
    {
      "cell_type": "code",
      "source": [
        "# Turn predicted logits in prediction probabilities\n",
        "y_pred_probs = torch.softmax(y_logits, dim=1)\n",
        "\n",
        "# Turn prediction probabilities into prediction labels\n",
        "y_preds = y_pred_probs.argmax(dim=1)\n",
        "\n",
        "# Compare first 10 model preds and test labels\n",
        "print(f\"Predictions: {y_preds[:10]}\\nLabels: {y_blob_test[:10]}\")\n",
        "print(f\"Test accuracy: {accuracy_fn(y_true=y_blob_test, y_pred=y_preds)}%\")"
      ],
      "metadata": {
        "colab": {
          "base_uri": "https://localhost:8080/"
        },
        "id": "Urb9IGcNxSCC",
        "outputId": "63138706-1b92-48c0-f5fc-25f1588789df"
      },
      "execution_count": 40,
      "outputs": [
        {
          "output_type": "stream",
          "name": "stdout",
          "text": [
            "Predictions: tensor([1, 3, 2, 1, 0, 3, 2, 0, 2, 0], device='cuda:0')\n",
            "Labels: tensor([1, 3, 2, 1, 0, 3, 2, 0, 2, 0], device='cuda:0')\n",
            "Test accuracy: 99.5%\n"
          ]
        }
      ]
    },
    {
      "cell_type": "markdown",
      "source": [
        "\n",
        "These are some of the most common methods you'll come across and are a good starting point.\n",
        "\n",
        "However, you may want to evaluate your classification model using more metrics such as the following:\n",
        "\n",
        "| **Metric name/Evaluation method** | **Defintion** | **Code** |\n",
        "| --- | --- | --- |\n",
        "| Accuracy | Out of 100 predictions, how many does your model get correct? E.g. 95% accuracy means it gets 95/100 predictions correct. | [`torchmetrics.Accuracy()`](https://torchmetrics.readthedocs.io/en/stable/classification/accuracy.html#id3) or [`sklearn.metrics.accuracy_score()`](https://scikit-learn.org/stable/modules/generated/sklearn.metrics.accuracy_score.html) |\n",
        "| Precision | Proportion of true positives over total number of samples. Higher precision leads to less false positives (model predicts 1 when it should've been 0). | [`torchmetrics.Precision()`](https://torchmetrics.readthedocs.io/en/stable/classification/precision.html#id4) or [`sklearn.metrics.precision_score()`](https://scikit-learn.org/stable/modules/generated/sklearn.metrics.precision_score.html) |\n",
        "| Recall | Proportion of true positives over total number of true positives and false negatives (model predicts 0 when it should've been 1). Higher recall leads to less false negatives. | [`torchmetrics.Recall()`](https://torchmetrics.readthedocs.io/en/stable/classification/recall.html#id5) or [`sklearn.metrics.recall_score()`](https://scikit-learn.org/stable/modules/generated/sklearn.metrics.recall_score.html) |\n",
        "| F1-score | Combines precision and recall into one metric. 1 is best, 0 is worst. | [`torchmetrics.F1Score()`](https://torchmetrics.readthedocs.io/en/stable/classification/f1_score.html#f1score) or [`sklearn.metrics.f1_score()`](https://scikit-learn.org/stable/modules/generated/sklearn.metrics.f1_score.html) |\n",
        "| [Confusion matrix](https://www.dataschool.io/simple-guide-to-confusion-matrix-terminology/)  | Compares the predicted values with the true values in a tabular way, if 100% correct, all values in the matrix will be top left to bottom right (diagnol line). | [`torchmetrics.ConfusionMatrix`](https://torchmetrics.readthedocs.io/en/stable/classification/confusion_matrix.html#confusionmatrix) or [`sklearn.metrics.plot_confusion_matrix()`](https://scikit-learn.org/stable/modules/generated/sklearn.metrics.ConfusionMatrixDisplay.html#sklearn.metrics.ConfusionMatrixDisplay.from_predictions) |\n",
        "| Classification report | Collection of some of the main classification metrics such as precision, recall and f1-score. | [`sklearn.metrics.classification_report()`](https://scikit-learn.org/stable/modules/generated/sklearn.metrics.classification_report.html) |\n",
        "\n",
        "Scikit-Learn (a popular and world-class machine learning library) has many implementations of the above metrics and you're looking for a PyTorch-like version, check out [TorchMetrics](https://torchmetrics.readthedocs.io/en/latest/), especially the [TorchMetrics classification section](https://torchmetrics.readthedocs.io/en/stable/pages/classification.html).\n",
        "\n",
        "\n"
      ],
      "metadata": {
        "id": "WfDkMmfdxX7q"
      }
    }
  ]
}