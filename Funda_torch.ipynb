{
  "nbformat": 4,
  "nbformat_minor": 0,
  "metadata": {
    "colab": {
      "provenance": [],
      "gpuType": "T4",
      "authorship_tag": "ABX9TyNbnyoutwgv5ktsn38ZgZ1j",
      "include_colab_link": true
    },
    "kernelspec": {
      "name": "python3",
      "display_name": "Python 3"
    },
    "language_info": {
      "name": "python"
    },
    "accelerator": "GPU"
  },
  "cells": [
    {
      "cell_type": "markdown",
      "metadata": {
        "id": "view-in-github",
        "colab_type": "text"
      },
      "source": [
        "<a href=\"https://colab.research.google.com/github/bhushanmandava/PyTorch_fundamentals/blob/main/Funda_torch.ipynb\" target=\"_parent\"><img src=\"https://colab.research.google.com/assets/colab-badge.svg\" alt=\"Open In Colab\"/></a>"
      ]
    },
    {
      "cell_type": "code",
      "execution_count": 1,
      "metadata": {
        "id": "YuI-5uvc30cR"
      },
      "outputs": [],
      "source": [
        "import torch\n",
        "import pandas as pd\n"
      ]
    },
    {
      "cell_type": "code",
      "source": [
        "print(torch.__version__)"
      ],
      "metadata": {
        "colab": {
          "base_uri": "https://localhost:8080/"
        },
        "id": "SEmuioL_4jka",
        "outputId": "4f382eab-6e91-4d05-a9a2-fc130a8a7dd8"
      },
      "execution_count": 2,
      "outputs": [
        {
          "output_type": "stream",
          "name": "stdout",
          "text": [
            "2.6.0+cu124\n"
          ]
        }
      ]
    },
    {
      "cell_type": "code",
      "source": [
        "!nvidia-smi\n"
      ],
      "metadata": {
        "colab": {
          "base_uri": "https://localhost:8080/"
        },
        "id": "mwjNHj9n4w7Z",
        "outputId": "e46a2aa4-264f-4f40-d9fd-973172aacb4f"
      },
      "execution_count": 3,
      "outputs": [
        {
          "output_type": "stream",
          "name": "stdout",
          "text": [
            "Fri Jun 20 17:24:37 2025       \n",
            "+-----------------------------------------------------------------------------------------+\n",
            "| NVIDIA-SMI 550.54.15              Driver Version: 550.54.15      CUDA Version: 12.4     |\n",
            "|-----------------------------------------+------------------------+----------------------+\n",
            "| GPU  Name                 Persistence-M | Bus-Id          Disp.A | Volatile Uncorr. ECC |\n",
            "| Fan  Temp   Perf          Pwr:Usage/Cap |           Memory-Usage | GPU-Util  Compute M. |\n",
            "|                                         |                        |               MIG M. |\n",
            "|=========================================+========================+======================|\n",
            "|   0  Tesla T4                       Off |   00000000:00:04.0 Off |                    0 |\n",
            "| N/A   53C    P8             10W /   70W |       0MiB /  15360MiB |      0%      Default |\n",
            "|                                         |                        |                  N/A |\n",
            "+-----------------------------------------+------------------------+----------------------+\n",
            "                                                                                         \n",
            "+-----------------------------------------------------------------------------------------+\n",
            "| Processes:                                                                              |\n",
            "|  GPU   GI   CI        PID   Type   Process name                              GPU Memory |\n",
            "|        ID   ID                                                               Usage      |\n",
            "|=========================================================================================|\n",
            "|  No running processes found                                                             |\n",
            "+-----------------------------------------------------------------------------------------+\n"
          ]
        }
      ]
    },
    {
      "cell_type": "code",
      "source": [
        "scalr = torch.tensor(7)\n",
        "#torch. tensor is the most basic class in the PyTorch tensors to make our data ready to turn into to tensor"
      ],
      "metadata": {
        "id": "tnynohDg45oQ"
      },
      "execution_count": 4,
      "outputs": []
    },
    {
      "cell_type": "code",
      "source": [
        "scalr"
      ],
      "metadata": {
        "colab": {
          "base_uri": "https://localhost:8080/"
        },
        "id": "clykMyoq5YtM",
        "outputId": "dba84fa5-c58d-46d1-978c-3e7041cc11f3"
      },
      "execution_count": 5,
      "outputs": [
        {
          "output_type": "execute_result",
          "data": {
            "text/plain": [
              "tensor(7)"
            ]
          },
          "metadata": {},
          "execution_count": 5
        }
      ]
    },
    {
      "cell_type": "code",
      "source": [
        "scalr.ndim #ndim is way to reffer to the dimension or get the dimensions of the tensors in the pytorch"
      ],
      "metadata": {
        "colab": {
          "base_uri": "https://localhost:8080/"
        },
        "id": "2EubAo_G5apM",
        "outputId": "316bf50c-8528-4ba8-b243-b892bc862443"
      },
      "execution_count": 6,
      "outputs": [
        {
          "output_type": "execute_result",
          "data": {
            "text/plain": [
              "0"
            ]
          },
          "metadata": {},
          "execution_count": 6
        }
      ]
    },
    {
      "cell_type": "code",
      "source": [
        "scalr.item()"
      ],
      "metadata": {
        "colab": {
          "base_uri": "https://localhost:8080/"
        },
        "id": "fAsbB2EQ5rh6",
        "outputId": "ac5b7727-f986-4876-e68e-609ef907a9f3"
      },
      "execution_count": 7,
      "outputs": [
        {
          "output_type": "execute_result",
          "data": {
            "text/plain": [
              "7"
            ]
          },
          "metadata": {},
          "execution_count": 7
        }
      ]
    },
    {
      "cell_type": "code",
      "source": [
        "#creating the vector\n",
        "vector = torch.tensor([7,7])"
      ],
      "metadata": {
        "id": "s39W3Tmq5438"
      },
      "execution_count": 8,
      "outputs": []
    },
    {
      "cell_type": "code",
      "source": [
        "vector. ndim# so it is only one-dimensional"
      ],
      "metadata": {
        "colab": {
          "base_uri": "https://localhost:8080/"
        },
        "id": "vAvHtES95_lG",
        "outputId": "6652c04c-f258-4d94-bbd1-28c05cf58856"
      },
      "execution_count": 9,
      "outputs": [
        {
          "output_type": "execute_result",
          "data": {
            "text/plain": [
              "1"
            ]
          },
          "metadata": {},
          "execution_count": 9
        }
      ]
    },
    {
      "cell_type": "code",
      "source": [
        "vector.shape# the shape is 2X1 elemenrts"
      ],
      "metadata": {
        "colab": {
          "base_uri": "https://localhost:8080/"
        },
        "id": "mDufoPHF6Cx9",
        "outputId": "218dac39-b954-4906-d0a4-ce1be1b0ab45"
      },
      "execution_count": 10,
      "outputs": [
        {
          "output_type": "execute_result",
          "data": {
            "text/plain": [
              "torch.Size([2])"
            ]
          },
          "metadata": {},
          "execution_count": 10
        }
      ]
    },
    {
      "cell_type": "code",
      "source": [
        "matrix = torch.tensor([[7,8,10],[8,9,10]])"
      ],
      "metadata": {
        "id": "ot3yDJzU6ORb"
      },
      "execution_count": 11,
      "outputs": []
    },
    {
      "cell_type": "code",
      "source": [
        "matrix.ndim"
      ],
      "metadata": {
        "colab": {
          "base_uri": "https://localhost:8080/"
        },
        "id": "aViKO2LF6bIW",
        "outputId": "2d33a589-030f-4ea5-fdc6-e163eaa0f41e"
      },
      "execution_count": 12,
      "outputs": [
        {
          "output_type": "execute_result",
          "data": {
            "text/plain": [
              "2"
            ]
          },
          "metadata": {},
          "execution_count": 12
        }
      ]
    },
    {
      "cell_type": "code",
      "source": [
        "matrix.shape"
      ],
      "metadata": {
        "colab": {
          "base_uri": "https://localhost:8080/"
        },
        "id": "sZY1uEA36csa",
        "outputId": "7593d6b9-d183-44ff-de54-c77c408b5afa"
      },
      "execution_count": 13,
      "outputs": [
        {
          "output_type": "execute_result",
          "data": {
            "text/plain": [
              "torch.Size([2, 3])"
            ]
          },
          "metadata": {},
          "execution_count": 13
        }
      ]
    },
    {
      "cell_type": "code",
      "source": [
        "tensor = torch.tensor([[[1,2],[2,3],[3,4]],\n",
        "                      [[1,2],[2,3],[3,5]]])"
      ],
      "metadata": {
        "id": "Ns0ij0Op6iiq"
      },
      "execution_count": 14,
      "outputs": []
    },
    {
      "cell_type": "code",
      "source": [
        "tensor.ndim"
      ],
      "metadata": {
        "colab": {
          "base_uri": "https://localhost:8080/"
        },
        "id": "JAisvTWS66eI",
        "outputId": "a3257b83-149e-4304-904d-e704b003945a"
      },
      "execution_count": 15,
      "outputs": [
        {
          "output_type": "execute_result",
          "data": {
            "text/plain": [
              "3"
            ]
          },
          "metadata": {},
          "execution_count": 15
        }
      ]
    },
    {
      "cell_type": "code",
      "source": [
        "tensor.shape"
      ],
      "metadata": {
        "colab": {
          "base_uri": "https://localhost:8080/"
        },
        "id": "s03eiHLJ680l",
        "outputId": "d2e032d1-c929-49e8-ccce-907e4a3be437"
      },
      "execution_count": 16,
      "outputs": [
        {
          "output_type": "execute_result",
          "data": {
            "text/plain": [
              "torch.Size([2, 3, 2])"
            ]
          },
          "metadata": {},
          "execution_count": 16
        }
      ]
    },
    {
      "cell_type": "code",
      "source": [
        "tensor[1][2][1]#this is the representation, it is always the outer layer(rows x columns) _> each outer layer or dim has its own rows and columns"
      ],
      "metadata": {
        "colab": {
          "base_uri": "https://localhost:8080/"
        },
        "id": "77H1kV2l6-wE",
        "outputId": "bf5c9181-80ab-4ec5-b008-2ec1325d96d1"
      },
      "execution_count": 17,
      "outputs": [
        {
          "output_type": "execute_result",
          "data": {
            "text/plain": [
              "tensor(5)"
            ]
          },
          "metadata": {},
          "execution_count": 17
        }
      ]
    },
    {
      "cell_type": "code",
      "source": [
        "#playing with the random tensors\n",
        "random_tensor = torch.rand(10,3,4)"
      ],
      "metadata": {
        "id": "7a5i7PT17S0P"
      },
      "execution_count": 18,
      "outputs": []
    },
    {
      "cell_type": "code",
      "source": [
        "random_tensor"
      ],
      "metadata": {
        "colab": {
          "base_uri": "https://localhost:8080/"
        },
        "id": "ddGpigaH8zkQ",
        "outputId": "5984faa1-2bfc-43bb-b2e2-94dd4d6ad66f"
      },
      "execution_count": 19,
      "outputs": [
        {
          "output_type": "execute_result",
          "data": {
            "text/plain": [
              "tensor([[[0.3446, 0.0151, 0.5965, 0.0920],\n",
              "         [0.8483, 0.4582, 0.1917, 0.2019],\n",
              "         [0.8112, 0.6294, 0.1877, 0.5403]],\n",
              "\n",
              "        [[0.6441, 0.0413, 0.4721, 0.5078],\n",
              "         [0.8409, 0.1954, 0.4100, 0.6847],\n",
              "         [0.3000, 0.0521, 0.4259, 0.3273]],\n",
              "\n",
              "        [[0.4584, 0.3203, 0.3919, 0.9405],\n",
              "         [0.0905, 0.0409, 0.1693, 0.8961],\n",
              "         [0.3646, 0.3713, 0.2824, 0.9725]],\n",
              "\n",
              "        [[0.7985, 0.8093, 0.8912, 0.3170],\n",
              "         [0.7587, 0.2426, 0.8521, 0.5835],\n",
              "         [0.1343, 0.3051, 0.3018, 0.2581]],\n",
              "\n",
              "        [[0.4548, 0.6947, 0.6144, 0.8079],\n",
              "         [0.6431, 0.5973, 0.5773, 0.5206],\n",
              "         [0.3730, 0.3415, 0.6586, 0.9831]],\n",
              "\n",
              "        [[0.4756, 0.7437, 0.8920, 0.5387],\n",
              "         [0.9891, 0.3222, 0.9320, 0.3545],\n",
              "         [0.8560, 0.2480, 0.0294, 0.4630]],\n",
              "\n",
              "        [[0.7282, 0.1417, 0.0082, 0.8970],\n",
              "         [0.8580, 0.0123, 0.7786, 0.3334],\n",
              "         [0.7550, 0.6893, 0.6181, 0.4466]],\n",
              "\n",
              "        [[0.9991, 0.9392, 0.6075, 0.9495],\n",
              "         [0.8576, 0.5492, 0.6513, 0.8446],\n",
              "         [0.5953, 0.1096, 0.8093, 0.7837]],\n",
              "\n",
              "        [[0.0286, 0.6725, 0.0791, 0.0567],\n",
              "         [0.6152, 0.9341, 0.7100, 0.5127],\n",
              "         [0.3756, 0.7360, 0.2890, 0.3815]],\n",
              "\n",
              "        [[0.0519, 0.3096, 0.1032, 0.7678],\n",
              "         [0.6608, 0.4541, 0.8683, 0.8766],\n",
              "         [0.5167, 0.2830, 0.3027, 0.0861]]])"
            ]
          },
          "metadata": {},
          "execution_count": 19
        }
      ]
    },
    {
      "cell_type": "code",
      "source": [
        "random_tensor.ndim"
      ],
      "metadata": {
        "colab": {
          "base_uri": "https://localhost:8080/"
        },
        "id": "702Dmuca80mI",
        "outputId": "1d0a50e2-9a59-4905-d5f4-07642a65c2dd"
      },
      "execution_count": 20,
      "outputs": [
        {
          "output_type": "execute_result",
          "data": {
            "text/plain": [
              "3"
            ]
          },
          "metadata": {},
          "execution_count": 20
        }
      ]
    },
    {
      "cell_type": "code",
      "source": [
        "random_tensor.shape"
      ],
      "metadata": {
        "colab": {
          "base_uri": "https://localhost:8080/"
        },
        "id": "HLy5i0tB83tj",
        "outputId": "96b977ed-ccce-4192-ee20-4802f0faebe3"
      },
      "execution_count": 21,
      "outputs": [
        {
          "output_type": "execute_result",
          "data": {
            "text/plain": [
              "torch.Size([10, 3, 4])"
            ]
          },
          "metadata": {},
          "execution_count": 21
        }
      ]
    },
    {
      "cell_type": "code",
      "source": [
        "#creating the image tesnor\n",
        "random_image_size_tensor = torch.rand(size=(224,224,3))#row coloums 3 reffers to RGB"
      ],
      "metadata": {
        "id": "-BUarZSD85Ra"
      },
      "execution_count": 22,
      "outputs": []
    },
    {
      "cell_type": "code",
      "source": [
        "random_image_size_tensor"
      ],
      "metadata": {
        "colab": {
          "base_uri": "https://localhost:8080/"
        },
        "id": "rO_tvCYd9Wfx",
        "outputId": "381cccec-fbcb-4ac9-befb-a8bfc86a80ec"
      },
      "execution_count": 23,
      "outputs": [
        {
          "output_type": "execute_result",
          "data": {
            "text/plain": [
              "tensor([[[0.8735, 0.0095, 0.7026],\n",
              "         [0.6434, 0.5330, 0.5725],\n",
              "         [0.8202, 0.1757, 0.2053],\n",
              "         ...,\n",
              "         [0.0978, 0.0298, 0.5513],\n",
              "         [0.5049, 0.3484, 0.2418],\n",
              "         [0.8330, 0.2707, 0.4313]],\n",
              "\n",
              "        [[0.3926, 0.2366, 0.4174],\n",
              "         [0.7446, 0.3843, 0.3766],\n",
              "         [0.3795, 0.3140, 0.7221],\n",
              "         ...,\n",
              "         [0.0682, 0.2992, 0.6044],\n",
              "         [0.2847, 0.6900, 0.6396],\n",
              "         [0.7606, 0.4859, 0.3224]],\n",
              "\n",
              "        [[0.5116, 0.3860, 0.9638],\n",
              "         [0.9601, 0.7540, 0.6365],\n",
              "         [0.3663, 0.0957, 0.0218],\n",
              "         ...,\n",
              "         [0.8400, 0.2085, 0.6689],\n",
              "         [0.4564, 0.2297, 0.6192],\n",
              "         [0.1221, 0.6660, 0.3692]],\n",
              "\n",
              "        ...,\n",
              "\n",
              "        [[0.8000, 0.1211, 0.6807],\n",
              "         [0.8455, 0.6780, 0.2107],\n",
              "         [0.0923, 0.3944, 0.4616],\n",
              "         ...,\n",
              "         [0.5140, 0.5075, 0.0761],\n",
              "         [0.6821, 0.1139, 0.3670],\n",
              "         [0.0610, 0.3472, 0.4536]],\n",
              "\n",
              "        [[0.3348, 0.3075, 0.1160],\n",
              "         [0.5826, 0.6146, 0.4112],\n",
              "         [0.3487, 0.7443, 0.6588],\n",
              "         ...,\n",
              "         [0.4355, 0.9126, 0.3997],\n",
              "         [0.4657, 0.6156, 0.7326],\n",
              "         [0.1046, 0.3532, 0.2952]],\n",
              "\n",
              "        [[0.5610, 0.3467, 0.7515],\n",
              "         [0.8137, 0.1311, 0.1284],\n",
              "         [0.0126, 0.8660, 0.9392],\n",
              "         ...,\n",
              "         [0.8554, 0.2688, 0.3287],\n",
              "         [0.9333, 0.1614, 0.5823],\n",
              "         [0.1959, 0.6601, 0.1195]]])"
            ]
          },
          "metadata": {},
          "execution_count": 23
        }
      ]
    },
    {
      "cell_type": "code",
      "source": [
        "random_image_size_tensor.ndim"
      ],
      "metadata": {
        "colab": {
          "base_uri": "https://localhost:8080/"
        },
        "id": "GI_9ugvQ9Xey",
        "outputId": "985d1267-0c57-4af1-bf5d-7b24bd761da5"
      },
      "execution_count": 24,
      "outputs": [
        {
          "output_type": "execute_result",
          "data": {
            "text/plain": [
              "3"
            ]
          },
          "metadata": {},
          "execution_count": 24
        }
      ]
    },
    {
      "cell_type": "code",
      "source": [
        "random_image_size_tensor.shape"
      ],
      "metadata": {
        "colab": {
          "base_uri": "https://localhost:8080/"
        },
        "id": "LxfND1JZ9aOl",
        "outputId": "930c7533-12f6-450b-934b-0e3626b712e0"
      },
      "execution_count": 25,
      "outputs": [
        {
          "output_type": "execute_result",
          "data": {
            "text/plain": [
              "torch.Size([224, 224, 3])"
            ]
          },
          "metadata": {},
          "execution_count": 25
        }
      ]
    },
    {
      "cell_type": "code",
      "source": [
        "# creatin the mask ie(creating the tensors with the zeros)\n",
        "zero = torch.zeros(3,4)\n",
        "ones = torch.ones(3,4)# you can also create the tensor with ones"
      ],
      "metadata": {
        "id": "y0M9SQ8F9bx-"
      },
      "execution_count": 26,
      "outputs": []
    },
    {
      "cell_type": "code",
      "source": [
        "zero"
      ],
      "metadata": {
        "colab": {
          "base_uri": "https://localhost:8080/"
        },
        "id": "34MkmS35-N-m",
        "outputId": "0ee1d523-0690-4b69-bf6a-0b44b33d0b38"
      },
      "execution_count": 27,
      "outputs": [
        {
          "output_type": "execute_result",
          "data": {
            "text/plain": [
              "tensor([[0., 0., 0., 0.],\n",
              "        [0., 0., 0., 0.],\n",
              "        [0., 0., 0., 0.]])"
            ]
          },
          "metadata": {},
          "execution_count": 27
        }
      ]
    },
    {
      "cell_type": "code",
      "source": [
        "ones"
      ],
      "metadata": {
        "colab": {
          "base_uri": "https://localhost:8080/"
        },
        "id": "pZsUJcw--O9K",
        "outputId": "b8bbb46a-28b7-4100-d666-808e821941ca"
      },
      "execution_count": 28,
      "outputs": [
        {
          "output_type": "execute_result",
          "data": {
            "text/plain": [
              "tensor([[1., 1., 1., 1.],\n",
              "        [1., 1., 1., 1.],\n",
              "        [1., 1., 1., 1.]])"
            ]
          },
          "metadata": {},
          "execution_count": 28
        }
      ]
    },
    {
      "cell_type": "code",
      "source": [
        "# creating the torch with a certain range in the maind\n",
        "one_to_ten=torch.arange(0,10,2)#here the the 3rd attribute is the steps"
      ],
      "metadata": {
        "id": "nuhIAP8C-PuJ"
      },
      "execution_count": 29,
      "outputs": []
    },
    {
      "cell_type": "code",
      "source": [
        "one_to_ten"
      ],
      "metadata": {
        "colab": {
          "base_uri": "https://localhost:8080/"
        },
        "id": "OWi8JWZLAbyl",
        "outputId": "a106197e-d5de-41d3-d5e1-26e6fb335628"
      },
      "execution_count": 30,
      "outputs": [
        {
          "output_type": "execute_result",
          "data": {
            "text/plain": [
              "tensor([0, 2, 4, 6, 8])"
            ]
          },
          "metadata": {},
          "execution_count": 30
        }
      ]
    },
    {
      "cell_type": "code",
      "source": [
        "# datas types on the tensors\n",
        "tensor = torch.tensor([1.,2.,3.])#the basic data type is float 32. You can also create the integer data type. You have to use float 16 if you want to use MPS 32-bit single precision, 16 half precision, and 64-bit double precision"
      ],
      "metadata": {
        "id": "5xpMLkw9Ac3X"
      },
      "execution_count": 31,
      "outputs": []
    },
    {
      "cell_type": "markdown",
      "source": [
        "### usual error\n",
        "not on the right data type or device or the right shape"
      ],
      "metadata": {
        "id": "SorZzBnjBxf0"
      }
    },
    {
      "cell_type": "code",
      "source": [
        "tensor.dtype"
      ],
      "metadata": {
        "colab": {
          "base_uri": "https://localhost:8080/"
        },
        "id": "VEC8-YHZAtQ4",
        "outputId": "ca61a8f4-eab5-470e-92c9-b0fa7f2ff8ea"
      },
      "execution_count": 32,
      "outputs": [
        {
          "output_type": "execute_result",
          "data": {
            "text/plain": [
              "torch.float32"
            ]
          },
          "metadata": {},
          "execution_count": 32
        }
      ]
    },
    {
      "cell_type": "markdown",
      "source": [
        "## playing with tensor ops\n",
        "-> addition\n",
        "-> sub\n",
        "-> divison\n",
        "-> mat multiplication"
      ],
      "metadata": {
        "id": "qIUQeuXpDMDy"
      }
    },
    {
      "cell_type": "code",
      "source": [
        "tensor = torch.ones(3,4)\n",
        "tensor"
      ],
      "metadata": {
        "colab": {
          "base_uri": "https://localhost:8080/"
        },
        "id": "u-q3ZdmHA50E",
        "outputId": "e96904d6-b19f-4fa5-b866-b7ba8528158e"
      },
      "execution_count": 33,
      "outputs": [
        {
          "output_type": "execute_result",
          "data": {
            "text/plain": [
              "tensor([[1., 1., 1., 1.],\n",
              "        [1., 1., 1., 1.],\n",
              "        [1., 1., 1., 1.]])"
            ]
          },
          "metadata": {},
          "execution_count": 33
        }
      ]
    },
    {
      "cell_type": "code",
      "source": [
        "tensor+20"
      ],
      "metadata": {
        "colab": {
          "base_uri": "https://localhost:8080/"
        },
        "id": "SIlAKKhiDel7",
        "outputId": "b9d0e86b-7b3d-4c77-b667-a01b5d38fda0"
      },
      "execution_count": 34,
      "outputs": [
        {
          "output_type": "execute_result",
          "data": {
            "text/plain": [
              "tensor([[21., 21., 21., 21.],\n",
              "        [21., 21., 21., 21.],\n",
              "        [21., 21., 21., 21.]])"
            ]
          },
          "metadata": {},
          "execution_count": 34
        }
      ]
    },
    {
      "cell_type": "code",
      "source": [
        "tensor# oops we forgot to reassign the code"
      ],
      "metadata": {
        "colab": {
          "base_uri": "https://localhost:8080/"
        },
        "id": "-7Ecbbr4DhYg",
        "outputId": "991c5d51-1a38-4ad2-ed0b-aa7058e8dd57"
      },
      "execution_count": 35,
      "outputs": [
        {
          "output_type": "execute_result",
          "data": {
            "text/plain": [
              "tensor([[1., 1., 1., 1.],\n",
              "        [1., 1., 1., 1.],\n",
              "        [1., 1., 1., 1.]])"
            ]
          },
          "metadata": {},
          "execution_count": 35
        }
      ]
    },
    {
      "cell_type": "code",
      "source": [
        "tensor/1"
      ],
      "metadata": {
        "colab": {
          "base_uri": "https://localhost:8080/"
        },
        "id": "_wT7SZeHDkBP",
        "outputId": "b787f1b3-50b8-40d6-9fa5-81cffdd035c5"
      },
      "execution_count": 36,
      "outputs": [
        {
          "output_type": "execute_result",
          "data": {
            "text/plain": [
              "tensor([[1., 1., 1., 1.],\n",
              "        [1., 1., 1., 1.],\n",
              "        [1., 1., 1., 1.]])"
            ]
          },
          "metadata": {},
          "execution_count": 36
        }
      ]
    },
    {
      "cell_type": "code",
      "source": [
        "tensor2= torch.ones(3,4) *10"
      ],
      "metadata": {
        "id": "b3aylp37Dqmr"
      },
      "execution_count": 37,
      "outputs": []
    },
    {
      "cell_type": "code",
      "source": [
        "torch.mul(tensor,tensor2)# problem is 3*4  #note remeber this is element wise multiplicatiom wich is not matric multiplicatioj"
      ],
      "metadata": {
        "colab": {
          "base_uri": "https://localhost:8080/"
        },
        "id": "WTWSnKbND1e9",
        "outputId": "6e7182c1-47c2-46de-9484-a2f2cb6ba727"
      },
      "execution_count": 38,
      "outputs": [
        {
          "output_type": "execute_result",
          "data": {
            "text/plain": [
              "tensor([[10., 10., 10., 10.],\n",
              "        [10., 10., 10., 10.],\n",
              "        [10., 10., 10., 10.]])"
            ]
          },
          "metadata": {},
          "execution_count": 38
        }
      ]
    },
    {
      "cell_type": "code",
      "source": [
        "torch.matmul(tensor,tensor2) # rember this mul is  not same as matmul"
      ],
      "metadata": {
        "colab": {
          "base_uri": "https://localhost:8080/",
          "height": 141
        },
        "id": "CxRNgZIkD4GW",
        "outputId": "c35104ef-6698-44e9-dece-468b6f3e241e"
      },
      "execution_count": 39,
      "outputs": [
        {
          "output_type": "error",
          "ename": "RuntimeError",
          "evalue": "mat1 and mat2 shapes cannot be multiplied (3x4 and 3x4)",
          "traceback": [
            "\u001b[0;31m---------------------------------------------------------------------------\u001b[0m",
            "\u001b[0;31mRuntimeError\u001b[0m                              Traceback (most recent call last)",
            "\u001b[0;32m/tmp/ipython-input-39-3965093994.py\u001b[0m in \u001b[0;36m<cell line: 0>\u001b[0;34m()\u001b[0m\n\u001b[0;32m----> 1\u001b[0;31m \u001b[0mtorch\u001b[0m\u001b[0;34m.\u001b[0m\u001b[0mmatmul\u001b[0m\u001b[0;34m(\u001b[0m\u001b[0mtensor\u001b[0m\u001b[0;34m,\u001b[0m\u001b[0mtensor2\u001b[0m\u001b[0;34m)\u001b[0m \u001b[0;31m# rember this mul is  not same as matmul\u001b[0m\u001b[0;34m\u001b[0m\u001b[0;34m\u001b[0m\u001b[0m\n\u001b[0m",
            "\u001b[0;31mRuntimeError\u001b[0m: mat1 and mat2 shapes cannot be multiplied (3x4 and 3x4)"
          ]
        }
      ]
    },
    {
      "cell_type": "code",
      "source": [
        "tensor2 = tensor2.reshape(4,3)"
      ],
      "metadata": {
        "id": "5svX9ROpFdI5"
      },
      "execution_count": 40,
      "outputs": []
    },
    {
      "cell_type": "code",
      "source": [
        "torch.matmul(tensor,tensor2)"
      ],
      "metadata": {
        "id": "oLA9BccoKJMa",
        "outputId": "b34913fb-901c-41d6-aac9-d84f32c89990",
        "colab": {
          "base_uri": "https://localhost:8080/"
        }
      },
      "execution_count": 41,
      "outputs": [
        {
          "output_type": "execute_result",
          "data": {
            "text/plain": [
              "tensor([[40., 40., 40.],\n",
              "        [40., 40., 40.],\n",
              "        [40., 40., 40.]])"
            ]
          },
          "metadata": {},
          "execution_count": 41
        }
      ]
    },
    {
      "cell_type": "code",
      "source": [
        "#reshaping, viewing, and stacking squeezing and unsqueezeing\n",
        "tensor = torch.tensor([[1,2,3],[4,5,6],[7,8,9]])\n",
        "tensor"
      ],
      "metadata": {
        "id": "7gtqc1xDKMri",
        "colab": {
          "base_uri": "https://localhost:8080/"
        },
        "outputId": "7108eb1f-95dd-49dd-da7b-abf49fbadf17"
      },
      "execution_count": 58,
      "outputs": [
        {
          "output_type": "execute_result",
          "data": {
            "text/plain": [
              "tensor([[1, 2, 3],\n",
              "        [4, 5, 6],\n",
              "        [7, 8, 9]])"
            ]
          },
          "metadata": {},
          "execution_count": 58
        }
      ]
    },
    {
      "cell_type": "markdown",
      "source": [
        "## Reshaping\n",
        "* reshaping is changing the shape of input tensor\n",
        "* View - share same memory and every thing similar to reshaping\n",
        "* stacking - combine the multile tensor on top of each other\n",
        "* squeeze - removes all '1' dimensions from tensor"
      ],
      "metadata": {
        "id": "5uSc3k_SYS10"
      }
    },
    {
      "cell_type": "code",
      "source": [
        "tensor , tensor.shape"
      ],
      "metadata": {
        "colab": {
          "base_uri": "https://localhost:8080/"
        },
        "id": "rIL7B0AjY_gJ",
        "outputId": "bae39dfa-0f1f-4c27-ccc1-9a1f6ed7fccc"
      },
      "execution_count": 59,
      "outputs": [
        {
          "output_type": "execute_result",
          "data": {
            "text/plain": [
              "(tensor([[1, 2, 3],\n",
              "         [4, 5, 6],\n",
              "         [7, 8, 9]]),\n",
              " torch.Size([3, 3]))"
            ]
          },
          "metadata": {},
          "execution_count": 59
        }
      ]
    },
    {
      "cell_type": "code",
      "source": [
        "tensor.reshape(1,9)"
      ],
      "metadata": {
        "colab": {
          "base_uri": "https://localhost:8080/"
        },
        "id": "vh56tuMyZIhL",
        "outputId": "541fdd62-5d77-4568-d770-338ae9ebb78e"
      },
      "execution_count": 60,
      "outputs": [
        {
          "output_type": "execute_result",
          "data": {
            "text/plain": [
              "tensor([[1, 2, 3, 4, 5, 6, 7, 8, 9]])"
            ]
          },
          "metadata": {},
          "execution_count": 60
        }
      ]
    },
    {
      "cell_type": "code",
      "source": [
        "z=tensor.view(1,9)# similar to the reshape but here we utilize the same memory"
      ],
      "metadata": {
        "id": "LpNzql6wZXUg"
      },
      "execution_count": 61,
      "outputs": []
    },
    {
      "cell_type": "code",
      "source": [
        "tensor.shape"
      ],
      "metadata": {
        "colab": {
          "base_uri": "https://localhost:8080/"
        },
        "id": "ucSCl7ZWZfvw",
        "outputId": "be5d229f-800d-43ab-cf5a-473105f74fce"
      },
      "execution_count": 62,
      "outputs": [
        {
          "output_type": "execute_result",
          "data": {
            "text/plain": [
              "torch.Size([3, 3])"
            ]
          },
          "metadata": {},
          "execution_count": 62
        }
      ]
    },
    {
      "cell_type": "code",
      "source": [
        "z[:,0]=2"
      ],
      "metadata": {
        "id": "TmkJNCRtZhRi"
      },
      "execution_count": 63,
      "outputs": []
    },
    {
      "cell_type": "code",
      "source": [
        "z"
      ],
      "metadata": {
        "colab": {
          "base_uri": "https://localhost:8080/"
        },
        "id": "L1qH6TyUaY8c",
        "outputId": "2a77dc72-428d-4b96-ac55-f4c9e69efaf9"
      },
      "execution_count": 64,
      "outputs": [
        {
          "output_type": "execute_result",
          "data": {
            "text/plain": [
              "tensor([[2, 2, 3, 4, 5, 6, 7, 8, 9]])"
            ]
          },
          "metadata": {},
          "execution_count": 64
        }
      ]
    },
    {
      "cell_type": "code",
      "source": [
        "tensor"
      ],
      "metadata": {
        "colab": {
          "base_uri": "https://localhost:8080/"
        },
        "id": "CApi-bC8aZk_",
        "outputId": "2bbec422-037d-497e-ea31-31dacbdc1f73"
      },
      "execution_count": 65,
      "outputs": [
        {
          "output_type": "execute_result",
          "data": {
            "text/plain": [
              "tensor([[2, 2, 3],\n",
              "        [4, 5, 6],\n",
              "        [7, 8, 9]])"
            ]
          },
          "metadata": {},
          "execution_count": 65
        }
      ]
    },
    {
      "cell_type": "code",
      "source": [
        "### lets do stacking\n",
        "x = torch.arange(1.,20.,2)\n",
        "y = torch.arange(1.,20.,2)\n",
        "x.shape,y.shape\n",
        "x=x.reshape(5,2)\n",
        "y=y.reshape(5,2)"
      ],
      "metadata": {
        "id": "Ogw1RQgoaavS"
      },
      "execution_count": 83,
      "outputs": []
    },
    {
      "cell_type": "code",
      "source": [
        "x_stacked_y = torch.stack([x,y],dim=2)"
      ],
      "metadata": {
        "id": "Z25UvajVa4ta"
      },
      "execution_count": 99,
      "outputs": []
    },
    {
      "cell_type": "code",
      "source": [
        "x_stacked_y.shape"
      ],
      "metadata": {
        "colab": {
          "base_uri": "https://localhost:8080/"
        },
        "id": "DJV6jbEqa_8h",
        "outputId": "dab7dd26-7606-4dd2-d9fd-35c36d9a06d5"
      },
      "execution_count": 100,
      "outputs": [
        {
          "output_type": "execute_result",
          "data": {
            "text/plain": [
              "torch.Size([5, 2, 2])"
            ]
          },
          "metadata": {},
          "execution_count": 100
        }
      ]
    },
    {
      "cell_type": "code",
      "source": [
        "x_stacked_y"
      ],
      "metadata": {
        "colab": {
          "base_uri": "https://localhost:8080/"
        },
        "id": "etpQzaJkbaLm",
        "outputId": "27cdeb8b-9a01-4dc9-98ce-5c16dd996071"
      },
      "execution_count": 101,
      "outputs": [
        {
          "output_type": "execute_result",
          "data": {
            "text/plain": [
              "tensor([[[ 1.,  1.],\n",
              "         [ 3.,  3.]],\n",
              "\n",
              "        [[ 5.,  5.],\n",
              "         [ 7.,  7.]],\n",
              "\n",
              "        [[ 9.,  9.],\n",
              "         [11., 11.]],\n",
              "\n",
              "        [[13., 13.],\n",
              "         [15., 15.]],\n",
              "\n",
              "        [[17., 17.],\n",
              "         [19., 19.]]])"
            ]
          },
          "metadata": {},
          "execution_count": 101
        }
      ]
    },
    {
      "cell_type": "code",
      "source": [
        "#squeeeze\n",
        "x_stacked_y.shape"
      ],
      "metadata": {
        "colab": {
          "base_uri": "https://localhost:8080/"
        },
        "id": "5id-5UZdbxA7",
        "outputId": "b1f3e619-6d42-420a-e8fe-a93eebda400e"
      },
      "execution_count": 103,
      "outputs": [
        {
          "output_type": "execute_result",
          "data": {
            "text/plain": [
              "torch.Size([5, 2, 2])"
            ]
          },
          "metadata": {},
          "execution_count": 103
        }
      ]
    },
    {
      "cell_type": "code",
      "source": [
        "temp=x_stacked_y.squeeze()"
      ],
      "metadata": {
        "id": "-iC2R44UcelB"
      },
      "execution_count": 105,
      "outputs": []
    },
    {
      "cell_type": "code",
      "source": [
        "temp= temp.reshape(1,20)"
      ],
      "metadata": {
        "id": "Ygg_mqLDcr4g"
      },
      "execution_count": 108,
      "outputs": []
    },
    {
      "cell_type": "code",
      "source": [
        "temp.shape"
      ],
      "metadata": {
        "colab": {
          "base_uri": "https://localhost:8080/"
        },
        "id": "bS_Jhr1Vcj-t",
        "outputId": "21272034-6a97-4ac9-c323-0641629aec7c"
      },
      "execution_count": 109,
      "outputs": [
        {
          "output_type": "execute_result",
          "data": {
            "text/plain": [
              "torch.Size([1, 20])"
            ]
          },
          "metadata": {},
          "execution_count": 109
        }
      ]
    },
    {
      "cell_type": "code",
      "source": [
        "temp.squeeze().shape # we removeed our 1 dimensions"
      ],
      "metadata": {
        "colab": {
          "base_uri": "https://localhost:8080/"
        },
        "id": "9NGOkVjYcnti",
        "outputId": "54dbddb5-6f01-4919-b240-af37e41f398f"
      },
      "execution_count": 111,
      "outputs": [
        {
          "output_type": "execute_result",
          "data": {
            "text/plain": [
              "torch.Size([20])"
            ]
          },
          "metadata": {},
          "execution_count": 111
        }
      ]
    },
    {
      "cell_type": "code",
      "source": [
        "temp"
      ],
      "metadata": {
        "colab": {
          "base_uri": "https://localhost:8080/"
        },
        "id": "_uVD0Jyjczvd",
        "outputId": "1fdc4609-1b96-464c-b6ff-87f1377ec18b"
      },
      "execution_count": 112,
      "outputs": [
        {
          "output_type": "execute_result",
          "data": {
            "text/plain": [
              "tensor([[ 1.,  1.,  3.,  3.,  5.,  5.,  7.,  7.,  9.,  9., 11., 11., 13., 13.,\n",
              "         15., 15., 17., 17., 19., 19.]])"
            ]
          },
          "metadata": {},
          "execution_count": 112
        }
      ]
    },
    {
      "cell_type": "code",
      "source": [
        "temp.unsqueeze(dim=0)"
      ],
      "metadata": {
        "colab": {
          "base_uri": "https://localhost:8080/"
        },
        "id": "r-rXOI0Pc5ue",
        "outputId": "43ea093d-b65c-4d74-c22f-ea7ff1c3ece7"
      },
      "execution_count": 117,
      "outputs": [
        {
          "output_type": "execute_result",
          "data": {
            "text/plain": [
              "tensor([[[ 1.,  1.,  3.,  3.,  5.,  5.,  7.,  7.,  9.,  9., 11., 11., 13., 13.,\n",
              "          15., 15., 17., 17., 19., 19.]]])"
            ]
          },
          "metadata": {},
          "execution_count": 117
        }
      ]
    },
    {
      "cell_type": "code",
      "source": [
        "temp.shape"
      ],
      "metadata": {
        "colab": {
          "base_uri": "https://localhost:8080/"
        },
        "id": "4QcaW8TFdVMB",
        "outputId": "4b1fb82d-84b1-43de-e303-43c2dcacf1de"
      },
      "execution_count": 118,
      "outputs": [
        {
          "output_type": "execute_result",
          "data": {
            "text/plain": [
              "torch.Size([1, 20])"
            ]
          },
          "metadata": {},
          "execution_count": 118
        }
      ]
    },
    {
      "cell_type": "code",
      "source": [
        "temp.unsqueeze(dim=1)"
      ],
      "metadata": {
        "colab": {
          "base_uri": "https://localhost:8080/"
        },
        "id": "3rotagc0c-G-",
        "outputId": "e5150ab3-5aa1-46b4-9b00-865b86f0337c"
      },
      "execution_count": 121,
      "outputs": [
        {
          "output_type": "execute_result",
          "data": {
            "text/plain": [
              "tensor([[[ 1.,  1.,  3.,  3.,  5.,  5.,  7.,  7.,  9.,  9., 11., 11., 13., 13.,\n",
              "          15., 15., 17., 17., 19., 19.]]])"
            ]
          },
          "metadata": {},
          "execution_count": 121
        }
      ]
    },
    {
      "cell_type": "code",
      "source": [
        "temp.shape"
      ],
      "metadata": {
        "colab": {
          "base_uri": "https://localhost:8080/"
        },
        "id": "NuIqMcUgdDP0",
        "outputId": "63ae419f-7434-4cee-b084-5f3991b1d026"
      },
      "execution_count": 122,
      "outputs": [
        {
          "output_type": "execute_result",
          "data": {
            "text/plain": [
              "torch.Size([1, 20])"
            ]
          },
          "metadata": {},
          "execution_count": 122
        }
      ]
    },
    {
      "cell_type": "code",
      "source": [
        "# permuting\n",
        "n= torch.rand(size=(224,224,3))"
      ],
      "metadata": {
        "id": "1fSNnuc6dS73"
      },
      "execution_count": 125,
      "outputs": []
    },
    {
      "cell_type": "code",
      "source": [
        "n.permute(2,1,0)"
      ],
      "metadata": {
        "colab": {
          "base_uri": "https://localhost:8080/"
        },
        "id": "vaSxaRgWh68w",
        "outputId": "e6538cd8-362c-4333-c6e9-b4494055d693"
      },
      "execution_count": 126,
      "outputs": [
        {
          "output_type": "execute_result",
          "data": {
            "text/plain": [
              "tensor([[[0.3984, 0.4078, 0.9199,  ..., 0.0756, 0.9243, 0.7907],\n",
              "         [0.0968, 0.7973, 0.9332,  ..., 0.3610, 0.6224, 0.2795],\n",
              "         [0.6708, 0.2201, 0.7539,  ..., 0.6928, 0.9098, 0.1524],\n",
              "         ...,\n",
              "         [0.4043, 0.5242, 0.8238,  ..., 0.6907, 0.4499, 0.9005],\n",
              "         [0.1655, 0.1962, 0.3250,  ..., 0.5593, 0.9728, 0.9284],\n",
              "         [0.8484, 0.7810, 0.1747,  ..., 0.6918, 0.6568, 0.7100]],\n",
              "\n",
              "        [[0.2946, 0.7359, 0.1500,  ..., 0.9206, 0.4168, 0.2710],\n",
              "         [0.1238, 0.7300, 0.0126,  ..., 0.3545, 0.0625, 0.0107],\n",
              "         [0.3751, 0.5116, 0.4362,  ..., 0.6879, 0.5676, 0.1602],\n",
              "         ...,\n",
              "         [0.5925, 0.7683, 0.2634,  ..., 0.9204, 0.0631, 0.1732],\n",
              "         [0.9540, 0.5361, 0.4587,  ..., 0.2501, 0.5477, 0.5534],\n",
              "         [0.3441, 0.2263, 0.3522,  ..., 0.0920, 0.6120, 0.2356]],\n",
              "\n",
              "        [[0.2224, 0.1127, 0.4190,  ..., 0.5980, 0.2084, 0.8722],\n",
              "         [0.2169, 0.4683, 0.9507,  ..., 0.1329, 0.3451, 0.5510],\n",
              "         [0.1488, 0.3320, 0.3788,  ..., 0.1385, 0.2590, 0.1855],\n",
              "         ...,\n",
              "         [0.9171, 0.8275, 0.3749,  ..., 0.3936, 0.7623, 0.9988],\n",
              "         [0.0470, 0.9940, 0.6028,  ..., 0.5408, 0.7084, 0.5561],\n",
              "         [0.5356, 0.1053, 0.4255,  ..., 0.2462, 0.3356, 0.4818]]])"
            ]
          },
          "metadata": {},
          "execution_count": 126
        }
      ]
    },
    {
      "cell_type": "code",
      "source": [
        "n[0][0][1]=2"
      ],
      "metadata": {
        "id": "2Jo7QMBliQgE"
      },
      "execution_count": 127,
      "outputs": []
    },
    {
      "cell_type": "code",
      "source": [
        "n"
      ],
      "metadata": {
        "colab": {
          "base_uri": "https://localhost:8080/"
        },
        "id": "iBcCttitiWpi",
        "outputId": "93f254a2-5d4c-4d41-f0d3-51b950cfe493"
      },
      "execution_count": 128,
      "outputs": [
        {
          "output_type": "execute_result",
          "data": {
            "text/plain": [
              "tensor([[[0.3984, 2.0000, 0.2224],\n",
              "         [0.0968, 0.1238, 0.2169],\n",
              "         [0.6708, 0.3751, 0.1488],\n",
              "         ...,\n",
              "         [0.4043, 0.5925, 0.9171],\n",
              "         [0.1655, 0.9540, 0.0470],\n",
              "         [0.8484, 0.3441, 0.5356]],\n",
              "\n",
              "        [[0.4078, 0.7359, 0.1127],\n",
              "         [0.7973, 0.7300, 0.4683],\n",
              "         [0.2201, 0.5116, 0.3320],\n",
              "         ...,\n",
              "         [0.5242, 0.7683, 0.8275],\n",
              "         [0.1962, 0.5361, 0.9940],\n",
              "         [0.7810, 0.2263, 0.1053]],\n",
              "\n",
              "        [[0.9199, 0.1500, 0.4190],\n",
              "         [0.9332, 0.0126, 0.9507],\n",
              "         [0.7539, 0.4362, 0.3788],\n",
              "         ...,\n",
              "         [0.8238, 0.2634, 0.3749],\n",
              "         [0.3250, 0.4587, 0.6028],\n",
              "         [0.1747, 0.3522, 0.4255]],\n",
              "\n",
              "        ...,\n",
              "\n",
              "        [[0.0756, 0.9206, 0.5980],\n",
              "         [0.3610, 0.3545, 0.1329],\n",
              "         [0.6928, 0.6879, 0.1385],\n",
              "         ...,\n",
              "         [0.6907, 0.9204, 0.3936],\n",
              "         [0.5593, 0.2501, 0.5408],\n",
              "         [0.6918, 0.0920, 0.2462]],\n",
              "\n",
              "        [[0.9243, 0.4168, 0.2084],\n",
              "         [0.6224, 0.0625, 0.3451],\n",
              "         [0.9098, 0.5676, 0.2590],\n",
              "         ...,\n",
              "         [0.4499, 0.0631, 0.7623],\n",
              "         [0.9728, 0.5477, 0.7084],\n",
              "         [0.6568, 0.6120, 0.3356]],\n",
              "\n",
              "        [[0.7907, 0.2710, 0.8722],\n",
              "         [0.2795, 0.0107, 0.5510],\n",
              "         [0.1524, 0.1602, 0.1855],\n",
              "         ...,\n",
              "         [0.9005, 0.1732, 0.9988],\n",
              "         [0.9284, 0.5534, 0.5561],\n",
              "         [0.7100, 0.2356, 0.4818]]])"
            ]
          },
          "metadata": {},
          "execution_count": 128
        }
      ]
    },
    {
      "cell_type": "code",
      "source": [
        "#working on the indexing\n",
        "x = torch.arange(1,10).reshape(1,3,3)"
      ],
      "metadata": {
        "id": "CturGD5qiXWS"
      },
      "execution_count": 130,
      "outputs": []
    },
    {
      "cell_type": "code",
      "source": [
        "x"
      ],
      "metadata": {
        "colab": {
          "base_uri": "https://localhost:8080/"
        },
        "id": "Pq1W2YZcjBRC",
        "outputId": "b3adce3a-f03d-4496-88bb-6fabbe6dda8a"
      },
      "execution_count": 131,
      "outputs": [
        {
          "output_type": "execute_result",
          "data": {
            "text/plain": [
              "tensor([[[1, 2, 3],\n",
              "         [4, 5, 6],\n",
              "         [7, 8, 9]]])"
            ]
          },
          "metadata": {},
          "execution_count": 131
        }
      ]
    },
    {
      "cell_type": "code",
      "source": [
        "x[0]"
      ],
      "metadata": {
        "colab": {
          "base_uri": "https://localhost:8080/"
        },
        "id": "SogosCy7jHwF",
        "outputId": "42e03cff-6be4-400e-8876-0ac846172626"
      },
      "execution_count": 132,
      "outputs": [
        {
          "output_type": "execute_result",
          "data": {
            "text/plain": [
              "tensor([[1, 2, 3],\n",
              "        [4, 5, 6],\n",
              "        [7, 8, 9]])"
            ]
          },
          "metadata": {},
          "execution_count": 132
        }
      ]
    },
    {
      "cell_type": "code",
      "source": [
        "x[0][0][0]"
      ],
      "metadata": {
        "colab": {
          "base_uri": "https://localhost:8080/"
        },
        "id": "mc4cG2JrjIih",
        "outputId": "e68c12d3-a051-4472-f332-07d4f4154582"
      },
      "execution_count": 134,
      "outputs": [
        {
          "output_type": "execute_result",
          "data": {
            "text/plain": [
              "tensor(1)"
            ]
          },
          "metadata": {},
          "execution_count": 134
        }
      ]
    },
    {
      "cell_type": "code",
      "source": [
        "x[1]"
      ],
      "metadata": {
        "colab": {
          "base_uri": "https://localhost:8080/",
          "height": 141
        },
        "id": "ZwfdfT8-jKKi",
        "outputId": "f5b15c55-72d2-4809-b3ca-0f1d70e8aff9"
      },
      "execution_count": 135,
      "outputs": [
        {
          "output_type": "error",
          "ename": "IndexError",
          "evalue": "index 1 is out of bounds for dimension 0 with size 1",
          "traceback": [
            "\u001b[0;31m---------------------------------------------------------------------------\u001b[0m",
            "\u001b[0;31mIndexError\u001b[0m                                Traceback (most recent call last)",
            "\u001b[0;32m/tmp/ipython-input-135-4118936608.py\u001b[0m in \u001b[0;36m<cell line: 0>\u001b[0;34m()\u001b[0m\n\u001b[0;32m----> 1\u001b[0;31m \u001b[0mx\u001b[0m\u001b[0;34m[\u001b[0m\u001b[0;36m1\u001b[0m\u001b[0;34m]\u001b[0m\u001b[0;34m\u001b[0m\u001b[0;34m\u001b[0m\u001b[0m\n\u001b[0m",
            "\u001b[0;31mIndexError\u001b[0m: index 1 is out of bounds for dimension 0 with size 1"
          ]
        }
      ]
    },
    {
      "cell_type": "code",
      "source": [
        "x[0][2][3]"
      ],
      "metadata": {
        "colab": {
          "base_uri": "https://localhost:8080/",
          "height": 141
        },
        "id": "gqxHPfoxjW_z",
        "outputId": "d00fc6c7-c428-413c-f015-0c408415a8c4"
      },
      "execution_count": 136,
      "outputs": [
        {
          "output_type": "error",
          "ename": "IndexError",
          "evalue": "index 3 is out of bounds for dimension 0 with size 3",
          "traceback": [
            "\u001b[0;31m---------------------------------------------------------------------------\u001b[0m",
            "\u001b[0;31mIndexError\u001b[0m                                Traceback (most recent call last)",
            "\u001b[0;32m/tmp/ipython-input-136-1647837717.py\u001b[0m in \u001b[0;36m<cell line: 0>\u001b[0;34m()\u001b[0m\n\u001b[0;32m----> 1\u001b[0;31m \u001b[0mx\u001b[0m\u001b[0;34m[\u001b[0m\u001b[0;36m0\u001b[0m\u001b[0;34m]\u001b[0m\u001b[0;34m[\u001b[0m\u001b[0;36m2\u001b[0m\u001b[0;34m]\u001b[0m\u001b[0;34m[\u001b[0m\u001b[0;36m3\u001b[0m\u001b[0;34m]\u001b[0m\u001b[0;34m\u001b[0m\u001b[0;34m\u001b[0m\u001b[0m\n\u001b[0m",
            "\u001b[0;31mIndexError\u001b[0m: index 3 is out of bounds for dimension 0 with size 3"
          ]
        }
      ]
    },
    {
      "cell_type": "code",
      "source": [
        "x[0][2][2]"
      ],
      "metadata": {
        "colab": {
          "base_uri": "https://localhost:8080/"
        },
        "id": "m_DIoDisjZlC",
        "outputId": "65d70cd0-b00a-4e2a-8af1-a3fe3e995317"
      },
      "execution_count": 137,
      "outputs": [
        {
          "output_type": "execute_result",
          "data": {
            "text/plain": [
              "tensor(9)"
            ]
          },
          "metadata": {},
          "execution_count": 137
        }
      ]
    },
    {
      "cell_type": "code",
      "source": [
        "x[0,2,2]"
      ],
      "metadata": {
        "colab": {
          "base_uri": "https://localhost:8080/"
        },
        "id": "qHeRkDuijbX8",
        "outputId": "413117e0-2fe6-4f23-acbf-81fe5833421a"
      },
      "execution_count": 138,
      "outputs": [
        {
          "output_type": "execute_result",
          "data": {
            "text/plain": [
              "tensor(9)"
            ]
          },
          "metadata": {},
          "execution_count": 138
        }
      ]
    },
    {
      "cell_type": "code",
      "source": [
        "x[:,:,2].reshape(3,1)"
      ],
      "metadata": {
        "colab": {
          "base_uri": "https://localhost:8080/"
        },
        "id": "yMx2xkavjqEN",
        "outputId": "b40cffb2-9438-4aab-b2dc-b3bf312ba46a"
      },
      "execution_count": 142,
      "outputs": [
        {
          "output_type": "execute_result",
          "data": {
            "text/plain": [
              "tensor([[3],\n",
              "        [6],\n",
              "        [9]])"
            ]
          },
          "metadata": {},
          "execution_count": 142
        }
      ]
    },
    {
      "cell_type": "code",
      "source": [
        "x[0,0,: ]"
      ],
      "metadata": {
        "colab": {
          "base_uri": "https://localhost:8080/"
        },
        "id": "dHD7lAJpjrhs",
        "outputId": "c6218000-4f84-45de-afdc-ccb8a6a34cd1"
      },
      "execution_count": 143,
      "outputs": [
        {
          "output_type": "execute_result",
          "data": {
            "text/plain": [
              "tensor([1, 2, 3])"
            ]
          },
          "metadata": {},
          "execution_count": 143
        }
      ]
    },
    {
      "cell_type": "code",
      "source": [],
      "metadata": {
        "id": "jzai7g6xk-hH"
      },
      "execution_count": null,
      "outputs": []
    }
  ]
}