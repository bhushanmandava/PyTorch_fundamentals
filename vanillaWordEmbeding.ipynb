{
  "nbformat": 4,
  "nbformat_minor": 0,
  "metadata": {
    "colab": {
      "provenance": [],
      "authorship_tag": "ABX9TyNl2ituqgYzi1ar+79a5HFu",
      "include_colab_link": true
    },
    "kernelspec": {
      "name": "python3",
      "display_name": "Python 3"
    },
    "language_info": {
      "name": "python"
    }
  },
  "cells": [
    {
      "cell_type": "markdown",
      "metadata": {
        "id": "view-in-github",
        "colab_type": "text"
      },
      "source": [
        "<a href=\"https://colab.research.google.com/github/bhushanmandava/PyTorch_fundamentals/blob/main/vanillaWordEmbeding.ipynb\" target=\"_parent\"><img src=\"https://colab.research.google.com/assets/colab-badge.svg\" alt=\"Open In Colab\"/></a>"
      ]
    },
    {
      "cell_type": "code",
      "execution_count": 35,
      "metadata": {
        "id": "8eZjUoFO1UKM"
      },
      "outputs": [],
      "source": [
        "import re, torch\n",
        "import torch.nn as nn"
      ]
    },
    {
      "cell_type": "code",
      "source": [
        "torch.manual_seed(42)"
      ],
      "metadata": {
        "colab": {
          "base_uri": "https://localhost:8080/"
        },
        "id": "cPpHevLO2XDo",
        "outputId": "65d85580-83bb-4966-bb54-aaa0b31650c1"
      },
      "execution_count": 36,
      "outputs": [
        {
          "output_type": "execute_result",
          "data": {
            "text/plain": [
              "<torch._C.Generator at 0x7e903d55ab30>"
            ]
          },
          "metadata": {},
          "execution_count": 36
        }
      ]
    },
    {
      "cell_type": "code",
      "source": [
        "docs = [\n",
        "    \"Movies are fun for everyone.\",\n",
        "    \"Watching movies is great fun.\",\n",
        "    \"Research is interesting and important.\",\n",
        "    \"Learning math is very important.\",\n",
        "    \"Science discovery is interesting.\",\n",
        "    \"Cinema Cinema Cinema Science Science Science Music Music Music Music\",\n",
        "    \"Rock is great to listen to.\",\n",
        "    \"Listen to music for fun.\",\n",
        "    \"Music is fun for everyone.\",\n",
        "    \"Listen to folk music!\",\n",
        "]\n",
        "labels =[1,1,1,3,3,3,2,2,2,2]\n",
        "num_classes =len(set(labels))# taking all the unique val\n",
        "print(num_classes)"
      ],
      "metadata": {
        "colab": {
          "base_uri": "https://localhost:8080/"
        },
        "id": "1--sFCcl2dU1",
        "outputId": "1f04a3fe-5a32-47a8-a878-192e5e4779aa"
      },
      "execution_count": 37,
      "outputs": [
        {
          "output_type": "stream",
          "name": "stdout",
          "text": [
            "3\n"
          ]
        }
      ]
    },
    {
      "cell_type": "code",
      "source": [
        "#now starting with our vocab\n",
        "def tokenize(text):\n",
        "  return re.findall(r\"\\w+\",text.lower())\n",
        "def create_vocab(texts):\n",
        "  tokens = {token for text in texts for token in tokenize(text)}\n",
        "  # now we have tokens\n",
        "  return {word:idx for idx,word in enumerate(sorted(tokens))}\n",
        "v = create_vocab(docs)"
      ],
      "metadata": {
        "id": "9qKmyDhb3F3k"
      },
      "execution_count": 38,
      "outputs": []
    },
    {
      "cell_type": "code",
      "source": [
        "v"
      ],
      "metadata": {
        "colab": {
          "base_uri": "https://localhost:8080/"
        },
        "id": "p--_paT04h_p",
        "outputId": "703a64e1-152c-424a-cb66-587ef8fcf574"
      },
      "execution_count": 39,
      "outputs": [
        {
          "output_type": "execute_result",
          "data": {
            "text/plain": [
              "{'and': 0,\n",
              " 'are': 1,\n",
              " 'cinema': 2,\n",
              " 'discovery': 3,\n",
              " 'everyone': 4,\n",
              " 'folk': 5,\n",
              " 'for': 6,\n",
              " 'fun': 7,\n",
              " 'great': 8,\n",
              " 'important': 9,\n",
              " 'interesting': 10,\n",
              " 'is': 11,\n",
              " 'learning': 12,\n",
              " 'listen': 13,\n",
              " 'math': 14,\n",
              " 'movies': 15,\n",
              " 'music': 16,\n",
              " 'research': 17,\n",
              " 'rock': 18,\n",
              " 'science': 19,\n",
              " 'to': 20,\n",
              " 'very': 21,\n",
              " 'watching': 22}"
            ]
          },
          "metadata": {},
          "execution_count": 39
        }
      ]
    },
    {
      "cell_type": "code",
      "source": [
        "#now converting or doc to feature vector\n",
        "def doctobow(data,vocab):\n",
        "  bow = torch.zeros(len(vocab))#creation vector with zeros\n",
        "  tokens = tokenize(data)#spliting data into tokens\n",
        "  for token in tokens:\n",
        "    if token in vocab:\n",
        "      bow[vocab[token]]=1#assing ones based on the possition of word on the vocab data which v\n",
        "  return bow\n"
      ],
      "metadata": {
        "id": "wn2EPvHc4ipW"
      },
      "execution_count": 40,
      "outputs": []
    },
    {
      "cell_type": "code",
      "source": [
        "bow_vectors = [doctobow(doc, v) for doc in docs]\n",
        "print(bow_vectors[:3])  # Check the structure\n"
      ],
      "metadata": {
        "colab": {
          "base_uri": "https://localhost:8080/"
        },
        "id": "gpH21AGS76tU",
        "outputId": "25f164bc-44ea-4093-a0b7-4c653d502d05"
      },
      "execution_count": 41,
      "outputs": [
        {
          "output_type": "stream",
          "name": "stdout",
          "text": [
            "[tensor([0., 1., 0., 0., 1., 0., 1., 1., 0., 0., 0., 0., 0., 0., 0., 1., 0., 0.,\n",
            "        0., 0., 0., 0., 0.]), tensor([0., 0., 0., 0., 0., 0., 0., 1., 1., 0., 0., 1., 0., 0., 0., 1., 0., 0.,\n",
            "        0., 0., 0., 0., 1.]), tensor([1., 0., 0., 0., 0., 0., 0., 0., 0., 1., 1., 1., 0., 0., 0., 0., 0., 1.,\n",
            "        0., 0., 0., 0., 0.])]\n"
          ]
        }
      ]
    },
    {
      "cell_type": "code",
      "source": [
        "## full transformations\n",
        "vectors = torch.stack(\n",
        "    [doctobow(doc,v) for doc in docs]\n",
        ")\n",
        "labels = torch.tensor(labels,dtype=torch.long)-1"
      ],
      "metadata": {
        "id": "DkyZ76Ei5-Vn"
      },
      "execution_count": 42,
      "outputs": []
    },
    {
      "cell_type": "code",
      "source": [
        "print(vectors.shape)\n",
        "print(labels.shape)"
      ],
      "metadata": {
        "colab": {
          "base_uri": "https://localhost:8080/"
        },
        "id": "GV0h0jif6tr9",
        "outputId": "7a89ce02-25f3-4c8b-87f9-f3a14c34f3d4"
      },
      "execution_count": 43,
      "outputs": [
        {
          "output_type": "stream",
          "name": "stdout",
          "text": [
            "torch.Size([10, 23])\n",
            "torch.Size([10])\n"
          ]
        }
      ]
    },
    {
      "cell_type": "code",
      "source": [
        "input_dim = vectors.shape[1]\n",
        "hidden_dim = 50\n",
        "output_dim = num_classes# getting our loggits befor scaling them in soft max\n",
        "class simpleClassifier(nn.Module):\n",
        "  def __init__(self,input_dim,hidden_dim,output_dim):\n",
        "    super().__init__()\n",
        "    self.fc1= nn.Linear(input_dim,hidden_dim)\n",
        "    self.relu = nn.ReLU()\n",
        "    self.fc2 = nn.Linear(hidden_dim,output_dim)\n",
        "  def forward(self,x):\n",
        "    x= self.fc1(x)\n",
        "    x=self.relu(x)\n",
        "    x=self.fc2(x)\n",
        "    return x\n",
        "model=simpleClassifier(input_dim,hidden_dim,output_dim)\n",
        "criterion = nn.CrossEntropyLoss()\n",
        "optimizer = torch.optim.Adam(model.parameters(),lr=0.01)\n"
      ],
      "metadata": {
        "id": "rVmON-UH8Pdc"
      },
      "execution_count": 44,
      "outputs": []
    },
    {
      "cell_type": "code",
      "source": [
        "for epoch in range(3000):\n",
        "  model.train()\n",
        "  optimizer.zero_grad()\n",
        "  logits =model(vectors)\n",
        "  loss =criterion(logits,labels)\n",
        "  loss.backward()\n",
        "  optimizer.step()\n",
        "  if epoch % 100 == 0:\n",
        "    print(f\"Epoch {epoch}, Loss: {loss.item()}\")\n"
      ],
      "metadata": {
        "colab": {
          "base_uri": "https://localhost:8080/"
        },
        "id": "4RL5pTmq_OGY",
        "outputId": "5c7e973f-4ea8-4694-d76e-2b1eef3b7265"
      },
      "execution_count": 45,
      "outputs": [
        {
          "output_type": "stream",
          "name": "stdout",
          "text": [
            "Epoch 0, Loss: 1.0902403593063354\n",
            "Epoch 100, Loss: 0.00018075328262057155\n",
            "Epoch 200, Loss: 8.404947584494948e-05\n",
            "Epoch 300, Loss: 5.081721974420361e-05\n",
            "Epoch 400, Loss: 3.435536928009242e-05\n",
            "Epoch 500, Loss: 2.4854753064573742e-05\n",
            "Epoch 600, Loss: 1.8834849470295012e-05\n",
            "Epoch 700, Loss: 1.4817579540249426e-05\n",
            "Epoch 800, Loss: 1.1944684956688434e-05\n",
            "Epoch 900, Loss: 9.8227865237277e-06\n",
            "Epoch 1000, Loss: 7.355181878665462e-06\n",
            "Epoch 1100, Loss: 5.936601610301295e-06\n",
            "Epoch 1200, Loss: 4.994853497919394e-06\n",
            "Epoch 1300, Loss: 4.291522600397002e-06\n",
            "Epoch 1400, Loss: 3.7431630062201293e-06\n",
            "Epoch 1500, Loss: 3.2663278943800833e-06\n",
            "Epoch 1600, Loss: 2.8848596684838412e-06\n",
            "Epoch 1700, Loss: 2.562995632615639e-06\n",
            "Epoch 1800, Loss: 2.2649733182333875e-06\n",
            "Epoch 1900, Loss: 2.086160066028242e-06\n",
            "Epoch 2000, Loss: 1.8477418279871927e-06\n",
            "Epoch 2100, Loss: 1.6808492091513472e-06\n",
            "Epoch 2200, Loss: 1.5139567040023394e-06\n",
            "Epoch 2300, Loss: 1.358984718535794e-06\n",
            "Epoch 2400, Loss: 1.2636176052183146e-06\n",
            "Epoch 2500, Loss: 1.1563294037841843e-06\n",
            "Epoch 2600, Loss: 1.0251992534904275e-06\n",
            "Epoch 2700, Loss: 9.536737479720614e-07\n",
            "Epoch 2800, Loss: 8.940692168835085e-07\n",
            "Epoch 2900, Loss: 8.10622793778748e-07\n"
          ]
        }
      ]
    },
    {
      "cell_type": "code",
      "source": [
        "#eval stage\n",
        "test_docs =[\"listening to music is fun\", \"am a science geek\"]\n",
        "class_name =[\"Cinema\",\"music\",\"Science\"]\n",
        "new_doc_vectors = torch.stack(\n",
        "    [doctobow(doc,v) for doc in test_docs]\n",
        ")\n",
        "with torch.no_grad():\n",
        "  outputs = model(new_doc_vectors)\n",
        "  _,predicted = torch.max(outputs,1)\n",
        "for i , new_doc in enumerate(test_docs):\n",
        "  print(f\"Predicted class for '{new_doc}': {class_name[predicted[i]]}\")"
      ],
      "metadata": {
        "colab": {
          "base_uri": "https://localhost:8080/"
        },
        "id": "LyvjWJCxAbvv",
        "outputId": "a97d7010-57f8-4f89-c65a-967361575417"
      },
      "execution_count": 50,
      "outputs": [
        {
          "output_type": "stream",
          "name": "stdout",
          "text": [
            "Predicted class for 'listening to music is fun': music\n",
            "Predicted class for 'am a science geek': Science\n"
          ]
        }
      ]
    },
    {
      "cell_type": "code",
      "source": [],
      "metadata": {
        "id": "1jQFbk07Bssr"
      },
      "execution_count": null,
      "outputs": []
    }
  ]
}