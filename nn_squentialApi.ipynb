{
  "nbformat": 4,
  "nbformat_minor": 0,
  "metadata": {
    "colab": {
      "provenance": [],
      "authorship_tag": "ABX9TyPvMTGa7w64/6o+vkMfLBO3",
      "include_colab_link": true
    },
    "kernelspec": {
      "name": "python3",
      "display_name": "Python 3"
    },
    "language_info": {
      "name": "python"
    }
  },
  "cells": [
    {
      "cell_type": "markdown",
      "metadata": {
        "id": "view-in-github",
        "colab_type": "text"
      },
      "source": [
        "<a href=\"https://colab.research.google.com/github/bhushanmandava/PyTorch_fundamentals/blob/main/nn_squentialApi.ipynb\" target=\"_parent\"><img src=\"https://colab.research.google.com/assets/colab-badge.svg\" alt=\"Open In Colab\"/></a>"
      ]
    },
    {
      "cell_type": "code",
      "execution_count": 1,
      "metadata": {
        "id": "gofb_K7IDhut"
      },
      "outputs": [],
      "source": [
        "import torch\n",
        "import torch.nn as nn\n",
        "import torch.optim as optim"
      ]
    },
    {
      "cell_type": "code",
      "source": [
        "input = torch.tensor([[[22,25],[25,35],[47,80],[52,95],[46,82],[56,90],[23,27],[30,50],[40,60],[39,57],[53,95],[48,88],]],dtype=torch.float32)"
      ],
      "metadata": {
        "id": "lzmLFg4RDs1g"
      },
      "execution_count": 4,
      "outputs": []
    },
    {
      "cell_type": "code",
      "source": [
        "lables = torch.tensor([[0],[0],[1],[1],[1],[1],[1],[0],[1],[1],[0],[1]],dtype = torch.float32)"
      ],
      "metadata": {
        "id": "8FNQAubHEe9S"
      },
      "execution_count": 17,
      "outputs": []
    },
    {
      "cell_type": "code",
      "source": [
        "model = nn.Sequential(\n",
        "    nn.Linear(2,100),\n",
        "    nn.ReLU(),\n",
        "    nn.Linear(100,1),\n",
        "    nn.Sigmoid()\n",
        ")\n",
        "optimizer = optim.Adam(model.parameters(),lr=0.01)\n",
        "criterion = nn.BCELoss()"
      ],
      "metadata": {
        "id": "jzjIUdh8E6l4"
      },
      "execution_count": 33,
      "outputs": []
    },
    {
      "cell_type": "code",
      "source": [
        "print(model.parameters())"
      ],
      "metadata": {
        "colab": {
          "base_uri": "https://localhost:8080/"
        },
        "id": "IUYiwupIFWBn",
        "outputId": "e194cfc5-44a7-4129-8480-6a29c2831a84"
      },
      "execution_count": 34,
      "outputs": [
        {
          "output_type": "stream",
          "name": "stdout",
          "text": [
            "<generator object Module.parameters at 0x78ee5c22ef80>\n"
          ]
        }
      ]
    },
    {
      "cell_type": "code",
      "source": [
        "print(input.shape)\n",
        "print(lables.shape)"
      ],
      "metadata": {
        "colab": {
          "base_uri": "https://localhost:8080/"
        },
        "id": "vBBQ9hJ2Gw4Z",
        "outputId": "275592dc-1c08-496e-cc1e-7b2f1d907810"
      },
      "execution_count": 35,
      "outputs": [
        {
          "output_type": "stream",
          "name": "stdout",
          "text": [
            "torch.Size([1, 12, 2])\n",
            "torch.Size([12, 1])\n"
          ]
        }
      ]
    },
    {
      "cell_type": "code",
      "source": [
        "for epoch in range(500):\n",
        "  optimizer.zero_grad()\n",
        "  output = model(input).squeeze(0)\n",
        "  loss = criterion(output,lables)\n",
        "  loss.backward()\n",
        "  optimizer.step()\n",
        "  if epoch % 100 == 0:\n",
        "    print(f\"Epoch: {epoch}, Loss: {loss.item()}\")"
      ],
      "metadata": {
        "colab": {
          "base_uri": "https://localhost:8080/"
        },
        "id": "_qrs0jS_Fzu4",
        "outputId": "7ed1cda4-1368-44b1-a111-7fe219543984"
      },
      "execution_count": 38,
      "outputs": [
        {
          "output_type": "stream",
          "name": "stdout",
          "text": [
            "Epoch: 0, Loss: 1.7867931127548218\n",
            "Epoch: 100, Loss: 0.5470642447471619\n",
            "Epoch: 200, Loss: 0.5124019980430603\n",
            "Epoch: 300, Loss: 0.4603494703769684\n",
            "Epoch: 400, Loss: 0.41357743740081787\n"
          ]
        }
      ]
    },
    {
      "cell_type": "code",
      "source": [],
      "metadata": {
        "id": "ONOVRK8FF9z5"
      },
      "execution_count": null,
      "outputs": []
    }
  ]
}